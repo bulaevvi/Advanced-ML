{
 "cells": [
  {
   "cell_type": "markdown",
   "metadata": {},
   "source": [
    "# Продвинутое машинное обучение: ДЗ №2\n",
    "\n",
    "**Булаев Владимир, группа DS-22, 29.03-10.04.2021**"
   ]
  },
  {
   "cell_type": "markdown",
   "metadata": {},
   "source": [
    "Примечание:\n",
    "- Для решения всех проблем с отображением выложил файл на nbviewer\n",
    "- Ссылка на оригинальный файл в репозитории: https://github.com/bulaevvi/Advanced-ML/blob/main/AdvancedML_HW2.ipynb"
   ]
  },
  {
   "cell_type": "code",
   "execution_count": 1,
   "metadata": {},
   "outputs": [],
   "source": [
    "# Используемые бибилиотеки\n",
    "import numpy as np\n",
    "import pandas as pd\n",
    "from matplotlib import pyplot as plt\n",
    "import scipy.stats as sps\n",
    "from scipy.sparse import csr_matrix\n",
    "from scipy.sparse import hstack, vstack\n",
    "from scipy.special import logit, expit\n",
    "\n",
    "from sklearn.preprocessing import OneHotEncoder\n",
    "from sklearn.linear_model import LogisticRegression, LinearRegression\n",
    "from sklearn.linear_model import Ridge\n",
    "\n",
    "import pickle\n",
    "from copy import deepcopy\n",
    "import torch\n",
    "\n",
    "#from tqdm.notebook import tqdm\n",
    "from tqdm import tqdm\n",
    "#import tqdm\n",
    "\n",
    "# Чтобы не загромождать вывод предупреждениями\n",
    "import warnings\n",
    "warnings.filterwarnings(\"ignore\")\n",
    "\n",
    "EPS = 1e-5\n",
    "DEFAULT_PROBA = 0.0"
   ]
  },
  {
   "cell_type": "markdown",
   "metadata": {},
   "source": [
    "## Содержание: <a class=\"anchor\" id=\"zero-bullet\"></a>\n",
    "* [1. Загрузка исходных данных](#1)\n",
    "* [2. Baseline-1 и ее предсказания](#2)\n",
    "    * [2.1. Дизайн Baseline-1](#2.1)\n",
    "    * [2.2. Предсказание результата нового турнира с помощью Baseline-1](#2.2)\n",
    "* [3. Baseline-2 и ее предсказания](#3)\n",
    "    * [3.1. Дизайн Baseline-2](#3.1)\n",
    "    * [3.2. Предсказание результата нового турнира с помощью Baseline-2](#3.2)\n",
    "* [4. ЕМ-алгоритм](#4)\n",
    "* [5. Рейтинг-лист турниров по сложности вопросов](#5)\n",
    "    * [5.1. Рейтинг-лист турниров по Baseline-модели](#5.1)\n",
    "    * [5.2. Рейтинг-лист турниров по EM-модели](#5.2)\n",
    "* [6. Бонус 1. Рейтинг игроков](#6)\n",
    "    * [6.1. Отбрасывание игроков, сыгравших малое количество вопросов](#6.1)\n",
    "    * [6.2. Использование регуляризации на М-шаге](#6.2)\n",
    "    * [6.3. Сглаживание исходных данных](#6.3)\n",
    "* [7. Бонус 2](#7)\n",
    "    * [7.1. Baseline](#7.1)\n",
    "    * [7.2. Изменение рейтинга со временем](#7.2)"
   ]
  },
  {
   "cell_type": "markdown",
   "metadata": {},
   "source": [
    "Background: в спортивном “Что? Где? Когда?” соревнующиеся команды отвечают на одни и те же вопросы. После минуты обсуждения команды записывают и сдают свои ответы на карточках; побеждает тот, кто ответил на большее число вопросов. Турнир обычно состоит из нескольких десятков вопросов (обычно 36 или 45, иногда 60, больше редко). Часто бывают синхронные турниры, когда на одни и те же вопросы отвечают команды на сотнях игровых площадок по всему миру, т.е. в одном турнире могут играть сотни, а то и тысячи команд. Соответственно, нам нужно: \n",
    "- построить рейтинг-лист, который способен нетривиально предсказывать результаты будущих турниров;\n",
    "- при этом, поскольку ЧГК — это хобби, и контрактов тут никаких нет, игроки постоянно переходят из команды в команду, сильный игрок может на один турнир сесть поиграть за другую команду и т.д.; поэтому единицей рейтинг-листа должна быть не команда, а отдельный игрок;\n",
    "- а что сильно упрощает задачу и переводит её в область домашних заданий на EM-алгоритм — это характер данных: начиная с какого-то момента, в базу результатов начали вносить все повопросные результаты команд, т.е. в данных будут записи вида “какая команда на какой вопрос правильно ответила”.\n",
    "\n",
    "Исходные материалы для задания: https://www.dropbox.com/s/s4qj0fpsn378m2i/chgk.zip"
   ]
  },
  {
   "cell_type": "markdown",
   "metadata": {},
   "source": [
    "## 1. Загрузка исходных данных <a class=\"anchor\" id=\"1\"></a>"
   ]
  },
  {
   "cell_type": "markdown",
   "metadata": {},
   "source": [
    "Условие задачи: *Прочитайте и проанализируйте данные, выберите турниры, в которых есть данные о составах команд и повопросных результатах (поле mask в results.pkl). Для унификации предлагаю:*\n",
    "- взять в тренировочный набор турниры с dateStart из 2019 года; \n",
    "- в тестовый — турниры с dateStart из 2020 года."
   ]
  },
  {
   "cell_type": "code",
   "execution_count": 2,
   "metadata": {},
   "outputs": [
    {
     "name": "stdout",
     "output_type": "stream",
     "text": [
      "Общее число игроков: 204063\n",
      "Общее число турниров: 5528\n",
      "Размер словаря результатов: 5528\n"
     ]
    }
   ],
   "source": [
    "# Считываем данные\n",
    "players = pickle.load(open('players.pkl', 'rb'))\n",
    "tournaments = pickle.load(open('tournaments.pkl', 'rb'))\n",
    "results = pickle.load(open('results.pkl', 'rb'))\n",
    "print('Общее число игроков:', len(players))\n",
    "print('Общее число турниров:', len(tournaments))\n",
    "print('Размер словаря результатов:', len(results))"
   ]
  },
  {
   "cell_type": "code",
   "execution_count": 3,
   "metadata": {},
   "outputs": [],
   "source": [
    "# Функция для коррекции маски\n",
    "# Удаляем вопросы, отмеченные \"X\", и заменяем \"-\" и \"?\" на 0\n",
    "mask_translator = str.maketrans('-?', '00', 'X')\n",
    "def correct_mask(mask):\n",
    "    return mask.translate(mask_translator)"
   ]
  },
  {
   "cell_type": "code",
   "execution_count": 4,
   "metadata": {},
   "outputs": [
    {
     "name": "stdout",
     "output_type": "stream",
     "text": [
      "Количество турниров для обучающей выборки: 674\n",
      "Количество турниров для тестовой выборки: 173\n"
     ]
    }
   ],
   "source": [
    "# Список турниров для train и test\n",
    "train_ids, test_ids = [] , []\n",
    "\n",
    "train_results, test_results = dict(), dict()\n",
    "for tourn_id, tourn_data in results.items():\n",
    "    year = int(tournaments[tourn_id]['dateStart'][:4])\n",
    "    # Если год не тот, переходим к следующему турниру\n",
    "    if (year < 2019) or (year > 2020):\n",
    "        continue\n",
    "    # Проверка наличия маски в результатах\n",
    "    flag1 = False\n",
    "    if (len(tourn_data) > 0) and ('mask' in tourn_data[0]):\n",
    "        if tourn_data[0]['mask'] is not None:\n",
    "            flag1 = True\n",
    "    # Проверка наличия списка игроков в результатах\n",
    "    flag2 = False\n",
    "    if (len(tourn_data) > 0) and ('teamMembers' in tourn_data[0]):\n",
    "        if tourn_data[0]['teamMembers'] is not None:\n",
    "            flag2 = True\n",
    "    # Если нет маски или списка игроков - переходим к следующему турниру\n",
    "    if not (flag1 and flag2):\n",
    "        continue\n",
    "   \n",
    "    # Максимальное число вопросов в турнире\n",
    "    max_mask = max([len(team['mask'] or '') for team in tourn_data])\n",
    "    # Оставляем те команды, у которых число ответов равно числу вопросов турнира\n",
    "    current_data = [team for team in tourn_data if len(team['mask'] or '') == max_mask]\n",
    "    # Исправляем маски\n",
    "    for team in current_data:\n",
    "        team['mask'] = correct_mask(team['mask'])\n",
    "    # Добавляем турниры в списки\n",
    "    if year == 2019:\n",
    "        train_ids.append(tourn_id)\n",
    "        train_results[tourn_id] = current_data\n",
    "    else:\n",
    "        test_ids.append(tourn_id)\n",
    "        test_results[tourn_id] = current_data\n",
    "print('Количество турниров для обучающей выборки:', len(train_results))\n",
    "print('Количество турниров для тестовой выборки:',  len(test_results))"
   ]
  },
  {
   "cell_type": "code",
   "execution_count": 5,
   "metadata": {},
   "outputs": [
    {
     "name": "stdout",
     "output_type": "stream",
     "text": [
      "Количество игроков в обучающем датасете: 57423\n"
     ]
    }
   ],
   "source": [
    "# Подсчет количества уникальных игроков\n",
    "player_ids_train = set()\n",
    "for tourn_id, tourn_data in train_results.items():\n",
    "    # Цикл по результатам команд в турнире\n",
    "    for result in tourn_data:\n",
    "        for player in result['teamMembers']:\n",
    "            player_ids_train.add(player['player']['id'])\n",
    "player_ids_train = list(player_ids_train)\n",
    "num_of_players = len(player_ids_train)\n",
    "print('Количество игроков в обучающем датасете:', num_of_players)"
   ]
  },
  {
   "cell_type": "code",
   "execution_count": 6,
   "metadata": {},
   "outputs": [],
   "source": [
    "# Функция для формирования датафреймов из результатов турниров\n",
    "def create_dataframe(results, ids):\n",
    "    # results - словарь результатов турниров\n",
    "    # ids - список id турниров\n",
    "    records = []\n",
    "    # Цикл по id турниров\n",
    "    for id in ids:\n",
    "        result = results[id]\n",
    "        # Цикл по командам, игравшим в турнире\n",
    "        for team in result:\n",
    "            if 'questionsTotal' not in team:\n",
    "                continue\n",
    "            # Корректируем маску\n",
    "            mask = correct_mask(team['mask'])\n",
    "            # Цикл по игрокам команды\n",
    "            for player in team['teamMembers']:\n",
    "                player = player['player']\n",
    "                # Выберем нужные поля из исходных данных\n",
    "                records.append({\n",
    "                    'tournament_id': id,\n",
    "                    'team_id': team['team']['id'],\n",
    "                    'player_id': player['id'],\n",
    "                    'team_name': team['team']['name'],\n",
    "                    'teamQuestions': team['questionsTotal'],\n",
    "                    'player_name': '{} {} {}'.format(player['surname'], player['name'], player['patronymic']),\n",
    "                    'mask': mask,\n",
    "                    'mask_len': len(mask or '')\n",
    "                })\n",
    "    # Формируем датафрейм из выбранных полей \n",
    "    df = pd.DataFrame.from_records(records)\n",
    "    # Во вспомогательное поле 'max_mask_len' запишем максимальное количество вопросов\n",
    "    df = df.merge(df.groupby('tournament_id')['mask_len'].max().rename('max_mask_len'),\n",
    "                  left_on='tournament_id', right_index=True)\n",
    "    # Оставляем примеры, в которых длина маски равна максимальной в турнире\n",
    "    df = df[df['mask_len'] == df['max_mask_len']].reset_index(drop=True)\n",
    "    # Удалим вспомогательное поле\n",
    "    df.drop(['max_mask_len'], axis=1, inplace=True)\n",
    "    return df"
   ]
  },
  {
   "cell_type": "code",
   "execution_count": 7,
   "metadata": {},
   "outputs": [
    {
     "name": "stdout",
     "output_type": "stream",
     "text": [
      "Количество записей обучающей выборки: 414746\n",
      "Количество записей  тестовой выборки: 108394\n"
     ]
    },
    {
     "data": {
      "text/html": [
       "<div>\n",
       "<style scoped>\n",
       "    .dataframe tbody tr th:only-of-type {\n",
       "        vertical-align: middle;\n",
       "    }\n",
       "\n",
       "    .dataframe tbody tr th {\n",
       "        vertical-align: top;\n",
       "    }\n",
       "\n",
       "    .dataframe thead th {\n",
       "        text-align: right;\n",
       "    }\n",
       "</style>\n",
       "<table border=\"1\" class=\"dataframe\">\n",
       "  <thead>\n",
       "    <tr style=\"text-align: right;\">\n",
       "      <th></th>\n",
       "      <th>tournament_id</th>\n",
       "      <th>team_id</th>\n",
       "      <th>player_id</th>\n",
       "      <th>team_name</th>\n",
       "      <th>teamQuestions</th>\n",
       "      <th>player_name</th>\n",
       "      <th>mask</th>\n",
       "      <th>mask_len</th>\n",
       "    </tr>\n",
       "  </thead>\n",
       "  <tbody>\n",
       "    <tr>\n",
       "      <th>0</th>\n",
       "      <td>4772</td>\n",
       "      <td>45556</td>\n",
       "      <td>6212</td>\n",
       "      <td>Рабочее название</td>\n",
       "      <td>28</td>\n",
       "      <td>Выменец Юрий Яковлевич</td>\n",
       "      <td>111111111011111110111111111100010010</td>\n",
       "      <td>36</td>\n",
       "    </tr>\n",
       "    <tr>\n",
       "      <th>1</th>\n",
       "      <td>4772</td>\n",
       "      <td>45556</td>\n",
       "      <td>18332</td>\n",
       "      <td>Рабочее название</td>\n",
       "      <td>28</td>\n",
       "      <td>Либер Александр Витальевич</td>\n",
       "      <td>111111111011111110111111111100010010</td>\n",
       "      <td>36</td>\n",
       "    </tr>\n",
       "    <tr>\n",
       "      <th>2</th>\n",
       "      <td>4772</td>\n",
       "      <td>45556</td>\n",
       "      <td>18036</td>\n",
       "      <td>Рабочее название</td>\n",
       "      <td>28</td>\n",
       "      <td>Левандовский Михаил Ильич</td>\n",
       "      <td>111111111011111110111111111100010010</td>\n",
       "      <td>36</td>\n",
       "    </tr>\n",
       "    <tr>\n",
       "      <th>3</th>\n",
       "      <td>4772</td>\n",
       "      <td>45556</td>\n",
       "      <td>22799</td>\n",
       "      <td>Рабочее название</td>\n",
       "      <td>28</td>\n",
       "      <td>Николенко Сергей Игоревич</td>\n",
       "      <td>111111111011111110111111111100010010</td>\n",
       "      <td>36</td>\n",
       "    </tr>\n",
       "    <tr>\n",
       "      <th>4</th>\n",
       "      <td>4772</td>\n",
       "      <td>45556</td>\n",
       "      <td>15456</td>\n",
       "      <td>Рабочее название</td>\n",
       "      <td>28</td>\n",
       "      <td>Коновалов Сергей Владимирович</td>\n",
       "      <td>111111111011111110111111111100010010</td>\n",
       "      <td>36</td>\n",
       "    </tr>\n",
       "  </tbody>\n",
       "</table>\n",
       "</div>"
      ],
      "text/plain": [
       "   tournament_id  team_id  player_id         team_name  teamQuestions  \\\n",
       "0           4772    45556       6212  Рабочее название             28   \n",
       "1           4772    45556      18332  Рабочее название             28   \n",
       "2           4772    45556      18036  Рабочее название             28   \n",
       "3           4772    45556      22799  Рабочее название             28   \n",
       "4           4772    45556      15456  Рабочее название             28   \n",
       "\n",
       "                     player_name                                  mask  \\\n",
       "0         Выменец Юрий Яковлевич  111111111011111110111111111100010010   \n",
       "1     Либер Александр Витальевич  111111111011111110111111111100010010   \n",
       "2      Левандовский Михаил Ильич  111111111011111110111111111100010010   \n",
       "3      Николенко Сергей Игоревич  111111111011111110111111111100010010   \n",
       "4  Коновалов Сергей Владимирович  111111111011111110111111111100010010   \n",
       "\n",
       "   mask_len  \n",
       "0        36  \n",
       "1        36  \n",
       "2        36  \n",
       "3        36  \n",
       "4        36  "
      ]
     },
     "execution_count": 7,
     "metadata": {},
     "output_type": "execute_result"
    }
   ],
   "source": [
    "# Формируем обучающий и тестовый датафреймы\n",
    "train_df = create_dataframe(train_results, train_ids)\n",
    "test_df  = create_dataframe(test_results,  test_ids)\n",
    "print('Количество записей обучающей выборки:', len(train_df))\n",
    "print('Количество записей  тестовой выборки:', len(test_df))\n",
    "train_df.head()"
   ]
  },
  {
   "cell_type": "code",
   "execution_count": 8,
   "metadata": {},
   "outputs": [],
   "source": [
    "# Функция для создания таблицы взаимодействия игрок-вопрос\n",
    "def create_df_quest_ans(train_results):\n",
    "    df_quest_ans = {'q_idx': [], 't_idx': [], 'p_idx': [], 'ans': []}\n",
    "    for tourn_id, tourn_data in train_results.items():\n",
    "        # Цикл по результатам команд в турнире\n",
    "        for result in tourn_data:\n",
    "            # Цикл по ответам из маски\n",
    "            for i, ans in enumerate(result['mask']):\n",
    "                # Присваиваем вопросу уникальный id\n",
    "                q_idx = 10000 * tourn_id + i\n",
    "                # Цикл по игрокам\n",
    "                for player in result['teamMembers']:\n",
    "                    df_quest_ans['q_idx'].append(q_idx)\n",
    "                    df_quest_ans['t_idx'].append(result['team']['id'])\n",
    "                    df_quest_ans['p_idx'].append(player['player']['id'])\n",
    "                    df_quest_ans['ans'].append(int(ans))\n",
    "    return df_quest_ans\n",
    "\n",
    "df_quest_ans = create_df_quest_ans(train_results)\n",
    "df_quest_ans = pd.DataFrame.from_dict(df_quest_ans)"
   ]
  },
  {
   "cell_type": "code",
   "execution_count": 9,
   "metadata": {},
   "outputs": [
    {
     "name": "stdout",
     "output_type": "stream",
     "text": [
      "Число взаимодействий игроков с вопросами в обучающем датасете: 17751584\n"
     ]
    },
    {
     "data": {
      "text/html": [
       "<div>\n",
       "<style scoped>\n",
       "    .dataframe tbody tr th:only-of-type {\n",
       "        vertical-align: middle;\n",
       "    }\n",
       "\n",
       "    .dataframe tbody tr th {\n",
       "        vertical-align: top;\n",
       "    }\n",
       "\n",
       "    .dataframe thead th {\n",
       "        text-align: right;\n",
       "    }\n",
       "</style>\n",
       "<table border=\"1\" class=\"dataframe\">\n",
       "  <thead>\n",
       "    <tr style=\"text-align: right;\">\n",
       "      <th></th>\n",
       "      <th>q_idx</th>\n",
       "      <th>t_idx</th>\n",
       "      <th>p_idx</th>\n",
       "      <th>ans</th>\n",
       "    </tr>\n",
       "  </thead>\n",
       "  <tbody>\n",
       "    <tr>\n",
       "      <th>0</th>\n",
       "      <td>47720000</td>\n",
       "      <td>45556</td>\n",
       "      <td>6212</td>\n",
       "      <td>1</td>\n",
       "    </tr>\n",
       "    <tr>\n",
       "      <th>1</th>\n",
       "      <td>47720000</td>\n",
       "      <td>45556</td>\n",
       "      <td>18332</td>\n",
       "      <td>1</td>\n",
       "    </tr>\n",
       "    <tr>\n",
       "      <th>2</th>\n",
       "      <td>47720000</td>\n",
       "      <td>45556</td>\n",
       "      <td>18036</td>\n",
       "      <td>1</td>\n",
       "    </tr>\n",
       "    <tr>\n",
       "      <th>3</th>\n",
       "      <td>47720000</td>\n",
       "      <td>45556</td>\n",
       "      <td>22799</td>\n",
       "      <td>1</td>\n",
       "    </tr>\n",
       "    <tr>\n",
       "      <th>4</th>\n",
       "      <td>47720000</td>\n",
       "      <td>45556</td>\n",
       "      <td>15456</td>\n",
       "      <td>1</td>\n",
       "    </tr>\n",
       "  </tbody>\n",
       "</table>\n",
       "</div>"
      ],
      "text/plain": [
       "      q_idx  t_idx  p_idx  ans\n",
       "0  47720000  45556   6212    1\n",
       "1  47720000  45556  18332    1\n",
       "2  47720000  45556  18036    1\n",
       "3  47720000  45556  22799    1\n",
       "4  47720000  45556  15456    1"
      ]
     },
     "execution_count": 9,
     "metadata": {},
     "output_type": "execute_result"
    }
   ],
   "source": [
    "print('Число взаимодействий игроков с вопросами в обучающем датасете:', len(df_quest_ans))\n",
    "df_quest_ans.head()"
   ]
  },
  {
   "cell_type": "markdown",
   "metadata": {},
   "source": [
    "[К содержанию](#zero-bullet) "
   ]
  },
  {
   "cell_type": "markdown",
   "metadata": {},
   "source": [
    "## 2. Baseline-1 и ее предсказания <a class=\"anchor\" id=\"2\"></a>  \n",
    "\n",
    "Условие задачи: *Постройте baseline-модель на основе линейной или логистической регрессии, которая будет обучать рейтинг-лист игроков. Замечания и подсказки:*\n",
    "- повопросные результаты — это фактически результаты броска монетки, и их предсказание скорее всего имеет отношение к бинарной классификации;\n",
    "- в разных турнирах вопросы совсем разного уровня сложности, поэтому модель должна это учитывать; скорее всего, модель должна будет явно обучать не только силу каждого игрока, но и сложность каждого вопроса;\n",
    "- для baseline-модели можно забыть о командах и считать, что повопросные результаты команды просто относятся к каждому из её игроков.  "
   ]
  },
  {
   "cell_type": "markdown",
   "metadata": {},
   "source": [
    "### 2.1. Дизайн Baseline-1 <a class=\"anchor\" id=\"2.1\"></a>  \n",
    "\n",
    "**Решение:**  \n",
    "Представим рейтинг игрока X как вероятность того, что игрок правильно ответит на любой вопрос: **rating(X)=P(X)**   \n",
    "При этом сделаем предположение, что данная вероятность не зависит от турнира.  \n",
    "Используя формулу совместной вероятности, получим:  \n",
    "\n",
    "$P(X)=\\int_Q P(X, Q=q) dq$, где Q - вопрос с некоторой сложностью q.\n",
    "Используя формулу Байеса, получим:  \n",
    "$P(X)=\\int_Q P(X, Q=q) dq = \\int_Q P (X| Q=q)P(Q=q)dq$  \n",
    "  \n",
    "**P(X|Q=q)** - вероятность того, что игрок Х ответит на вопрос сложности q  \n",
    "**P(Q=q)** - распределение сложности вопросов  \n",
    "\n",
    "Как предлагается в условии, вероятность ответа игрока Х на вопрос сложности q будем аппроксимировать с помощью логистической регрессии, на вход которой будет подаваться сложность вопроса:  \n",
    "$$P(X| Q=q) = \\sigma(wq+w_0)$$  \n",
    "Используя условие, что результаты ответа команды можно отнести к результату каждого из игроков, будем оценивать сложность вопроса q как отношения числа ответивших команд к общему числу команд турнира:  \n",
    "$$q = \\frac{n_{ответивших}}{n_{участников}}$$  \n",
    "\n",
    "Для того, чтобы рассчитать итоговый рейтинг игрока Х, необходимо проинтегрировать результаты обученной логистической регрессии, взвешенные распределением сложности вопросов, по всем возможным сложностям вопросов в диапазоне от 0 до 1:  \n",
    "\n",
    "$$P(X)= \\int_Q \\sigma(wq+w_0)p(q)dq$$\n",
    "\n",
    "Для оценки распределения сложности вопросов построим гистограммы сложностей, затем для расчета итогового рейтинга перейдем от интегрирования к суммированию."
   ]
  },
  {
   "cell_type": "code",
   "execution_count": 10,
   "metadata": {},
   "outputs": [],
   "source": [
    "# Baseline-вариант для расчета сложности вопросов\n",
    "def q_rating_baseline(results):\n",
    "    questions_rating = {'t_id': [],'q_id': [], 'rating': []}\n",
    "    for tourn_id, result in results.items():\n",
    "        cur_rating = [0] * len(result[0]['mask'])\n",
    "        for team in result:\n",
    "            for pos in range(len(team['mask'])):\n",
    "                cur_rating[pos] += 1 if team['mask'][pos] == '1' else 0\n",
    "        cur_rating = np.array(cur_rating) / len(result)\n",
    "        for i in range(len(cur_rating)):\n",
    "            questions_rating['t_id'].append(tourn_id)\n",
    "            questions_rating['q_id'].append(10000 * tourn_id + i)\n",
    "            questions_rating['rating'].append(cur_rating[i])\n",
    "    return pd.DataFrame(questions_rating)"
   ]
  },
  {
   "cell_type": "code",
   "execution_count": 11,
   "metadata": {},
   "outputs": [],
   "source": [
    "q_rating_train_baseline = q_rating_baseline(train_results)\n",
    "q_rating_test_baseline  = q_rating_baseline(test_results)"
   ]
  },
  {
   "cell_type": "code",
   "execution_count": 12,
   "metadata": {},
   "outputs": [
    {
     "name": "stdout",
     "output_type": "stream",
     "text": [
      "Количество вопросов в обучающей выборке: 33233\n",
      "Количество вопросов в  тестовой выборке: 7826\n"
     ]
    }
   ],
   "source": [
    "print('Количество вопросов в обучающей выборке:', len(q_rating_train_baseline))\n",
    "print('Количество вопросов в  тестовой выборке:', len(q_rating_test_baseline))\n",
    "#questions_rating_train.head()"
   ]
  },
  {
   "cell_type": "code",
   "execution_count": 13,
   "metadata": {},
   "outputs": [
    {
     "data": {
      "image/png": "[encoded data removed]",
      "text/plain": [
       "<Figure size 720x360 with 1 Axes>"
      ]
     },
     "metadata": {
      "needs_background": "light"
     },
     "output_type": "display_data"
    }
   ],
   "source": [
    "bins = 50\n",
    "plt.figure(figsize = (10, 5))\n",
    "q_rating_train_baseline['rating'].hist(bins=bins, label = 'train')\n",
    "q_rating_test_baseline['rating'].hist(bins=bins, label = 'train')\n",
    "plt.title('Гистограммы сложности вопросов в обучающей и тестовой выборке')\n",
    "plt.xlabel('Сложность вопроса')\n",
    "plt.legend()\n",
    "plt.show()"
   ]
  },
  {
   "cell_type": "markdown",
   "metadata": {},
   "source": [
    "В целом характер распределения для тестовой выборки в некоторой степени напоминает равномерное. Можно попробовать подобрать эмпирическое распределение на основе train-гистограммы и применить этот характер для тестовых данных, но при таком подходе есть риск переобучиться. Учитывая, что в данном задании необходимо обучить бейзлайн, используем равномерное распределение сложности вопросов."
   ]
  },
  {
   "cell_type": "code",
   "execution_count": 14,
   "metadata": {},
   "outputs": [],
   "source": [
    "# Добавим колонку сложности вопросов\n",
    "df_answers = df_quest_ans.merge(df_quest_ans.groupby(['q_idx'])['ans'].mean().rename('q_diff'),\n",
    "                                left_on = 'q_idx', right_index=True)"
   ]
  },
  {
   "cell_type": "code",
   "execution_count": 15,
   "metadata": {},
   "outputs": [
    {
     "data": {
      "text/html": [
       "<div>\n",
       "<style scoped>\n",
       "    .dataframe tbody tr th:only-of-type {\n",
       "        vertical-align: middle;\n",
       "    }\n",
       "\n",
       "    .dataframe tbody tr th {\n",
       "        vertical-align: top;\n",
       "    }\n",
       "\n",
       "    .dataframe thead th {\n",
       "        text-align: right;\n",
       "    }\n",
       "</style>\n",
       "<table border=\"1\" class=\"dataframe\">\n",
       "  <thead>\n",
       "    <tr style=\"text-align: right;\">\n",
       "      <th></th>\n",
       "      <th>q_idx</th>\n",
       "      <th>t_idx</th>\n",
       "      <th>p_idx</th>\n",
       "      <th>ans</th>\n",
       "      <th>q_diff</th>\n",
       "    </tr>\n",
       "  </thead>\n",
       "  <tbody>\n",
       "    <tr>\n",
       "      <th>0</th>\n",
       "      <td>47720000</td>\n",
       "      <td>45556</td>\n",
       "      <td>6212</td>\n",
       "      <td>1</td>\n",
       "      <td>0.892295</td>\n",
       "    </tr>\n",
       "    <tr>\n",
       "      <th>1</th>\n",
       "      <td>47720000</td>\n",
       "      <td>45556</td>\n",
       "      <td>18332</td>\n",
       "      <td>1</td>\n",
       "      <td>0.892295</td>\n",
       "    </tr>\n",
       "    <tr>\n",
       "      <th>2</th>\n",
       "      <td>47720000</td>\n",
       "      <td>45556</td>\n",
       "      <td>18036</td>\n",
       "      <td>1</td>\n",
       "      <td>0.892295</td>\n",
       "    </tr>\n",
       "    <tr>\n",
       "      <th>3</th>\n",
       "      <td>47720000</td>\n",
       "      <td>45556</td>\n",
       "      <td>22799</td>\n",
       "      <td>1</td>\n",
       "      <td>0.892295</td>\n",
       "    </tr>\n",
       "    <tr>\n",
       "      <th>4</th>\n",
       "      <td>47720000</td>\n",
       "      <td>45556</td>\n",
       "      <td>15456</td>\n",
       "      <td>1</td>\n",
       "      <td>0.892295</td>\n",
       "    </tr>\n",
       "  </tbody>\n",
       "</table>\n",
       "</div>"
      ],
      "text/plain": [
       "      q_idx  t_idx  p_idx  ans    q_diff\n",
       "0  47720000  45556   6212    1  0.892295\n",
       "1  47720000  45556  18332    1  0.892295\n",
       "2  47720000  45556  18036    1  0.892295\n",
       "3  47720000  45556  22799    1  0.892295\n",
       "4  47720000  45556  15456    1  0.892295"
      ]
     },
     "execution_count": 15,
     "metadata": {},
     "output_type": "execute_result"
    }
   ],
   "source": [
    "# df_answers['q_diff'] = 1 - df_answers['q_diff']\n",
    "df_answers.head()"
   ]
  },
  {
   "cell_type": "code",
   "execution_count": 16,
   "metadata": {},
   "outputs": [
    {
     "name": "stderr",
     "output_type": "stream",
     "text": [
      "100%|████████████████████████████████████████████████████████████████████████████| 57423/57423 [18:04<00:00, 52.93it/s]\n"
     ]
    }
   ],
   "source": [
    "# Обучение baseline-1\n",
    "p_rates = pd.Series(np.zeros(num_of_players, dtype=float), index=player_ids_train)\n",
    "for idx in tqdm(player_ids_train):\n",
    "    p_df = df_answers[df_answers['p_idx'] == idx]\n",
    "    model = LogisticRegression(random_state = 42)\n",
    "    try:\n",
    "        # Обучаем модель на данных из train\n",
    "        model.fit(p_df[['q_diff']], p_df['ans'])\n",
    "        # Делаем предсказания для модели на всем интервале сложности\n",
    "        # с шагом, рассчитанным исходя из количества интервалов\n",
    "        preds = model.predict_proba(np.linspace(0.01, 0.99, 50).reshape(-1,1))[:, 1]\n",
    "        # Скалярно перемножаем прогнозы модели и плотность распределдения сложности\n",
    "        #rate = np.dot(preds, diff_probs)\n",
    "        rate = preds.mean()\n",
    "        p_rates[idx] = rate\n",
    "    except ValueError:\n",
    "        if not 0 in p_df['ans'].values:\n",
    "            p_rates[idx] = 1"
   ]
  },
  {
   "cell_type": "code",
   "execution_count": 17,
   "metadata": {},
   "outputs": [
    {
     "name": "stdout",
     "output_type": "stream",
     "text": [
      "Минимальное, максимальное значение и несколько примеров рейтингов: 0.0 0.91679348174461\n"
     ]
    },
    {
     "data": {
      "text/plain": [
       "131077    0.546386\n",
       "131080    0.409265\n",
       "131082    0.614188\n",
       "131083    0.608806\n",
       "15        0.382584\n",
       "dtype: float64"
      ]
     },
     "execution_count": 17,
     "metadata": {},
     "output_type": "execute_result"
    }
   ],
   "source": [
    "# p_rates.to_csv('p_rates.csv')\n",
    "print('Минимальное, максимальное значение и несколько примеров рейтингов:', p_rates.min(), p_rates.max())\n",
    "p_rates.head()"
   ]
  },
  {
   "cell_type": "markdown",
   "metadata": {},
   "source": [
    "[К содержанию](#zero-bullet) "
   ]
  },
  {
   "cell_type": "markdown",
   "metadata": {},
   "source": [
    "### 2.2. Предсказание результата нового турнира с помощью Baseline-1 <a class=\"anchor\" id=\"2.2\"></a>\n",
    "\n",
    "Условие задачи: *Качество рейтинг-системы оценивается качеством предсказаний результатов турниров. Но сами повопросные результаты наши модели предсказывать вряд ли смогут, ведь неизвестно, насколько сложными окажутся вопросы в будущих турнирах; да и не нужны эти предсказания сами по себе. Поэтому:*\n",
    "- предложите способ предсказать результаты турнира с известными составами, но неизвестными вопросами, в виде ранжирования команд;\n",
    "- в качестве метрики качества на тестовом наборе давайте считать ранговые корреляции Спирмена и Кендалла (их можно взять в пакете scipy) между реальным ранжированием в результатах турнира и предсказанным моделью, усреднённые по тестовому множеству турниров"
   ]
  },
  {
   "cell_type": "markdown",
   "metadata": {},
   "source": [
    "**Решение:**  \n",
    "В концепции baseline-1 предполагалось, что рейтинг r(x) представляет собой вероятность игрока ответить на произвольный вопрос. Для предсказании того, сможет ли команда ответить на произвольный вопрос, предлагается 2 способа: вероятностный и наивный.  \n",
    "1) Вероятностный способ: вероятность P(T) команды ответить на вопрос равна вероятности того, что хотя бы один из игроков сможет ответить на вопрос:\n",
    "$$P(T) = 1 - \\prod_{x \\in T} (1 - r(x))$$\n",
    "2) \"Наивный\" способ: возможность Pos(T) команды ответить на вопрос равна среднему рейтингу игроков команды:  \n",
    "$$Pos(T) = \\sum_{x \\in T}{r(x)} / N_{players}$$"
   ]
  },
  {
   "cell_type": "code",
   "execution_count": 18,
   "metadata": {},
   "outputs": [],
   "source": [
    "# Расчет возможности команды по характеристикам игроков\n",
    "# Единица минус вероятность того, что ни один игрок не смог ответить\n",
    "def calc_team_proba(team, p_rates):\n",
    "    result = 1\n",
    "    for player in team:\n",
    "        if player['player']['id'] in p_rates.index:\n",
    "            p = p_rates[player['player']['id']]\n",
    "        else:\n",
    "            p = DEFAULT_PROBA\n",
    "        result *= (1 - p)\n",
    "    return 1 - result\n",
    "\n",
    "# Расчет возможности команды по характеристикам игроков\n",
    "# Средняя вероятность ответа по всем игрокам\n",
    "def calc_team_naive(team, p_rates):\n",
    "    result, cnt = 0, 0\n",
    "    for player in team:\n",
    "        if player['player']['id'] in p_rates.index:\n",
    "            p = p_rates[player['player']['id']]\n",
    "        else:\n",
    "            p = DEFAULT_PROBA\n",
    "        result += p\n",
    "        cnt += 1\n",
    "    if cnt == 0: result = 1\n",
    "    else: result /= cnt\n",
    "    return result\n",
    "\n",
    "# Функция для расчета метрики качества\n",
    "def calc_corr(test_results, p_rates, func):\n",
    "    spearman_coef = 0\n",
    "    kendall_coef = 0\n",
    "    N = len(test_results)\n",
    "    for tourn_id, tourn_data in test_results.items():\n",
    "        # Пропускаем турнир если в результатах нет инфо о позиции команды\n",
    "        if not 'position' in test_results[tourn_id][0].keys():\n",
    "            continue\n",
    "        ranks_pred = np.zeros(len(test_results[tourn_id]))\n",
    "        ranks_true = np.zeros(len(test_results[tourn_id]))\n",
    "        # Цикл по командам турнира\n",
    "        for i, result in enumerate(test_results[tourn_id]):\n",
    "            ranks_true[i] = result['position']\n",
    "            # Расчет командного показателя\n",
    "            ranks_pred[i] = func(result['teamMembers'], p_rates)\n",
    "        spearman_coef_curr = sps.spearmanr(ranks_pred, -ranks_true)[0]\n",
    "        kendall_coef_curr  = sps.kendalltau(ranks_pred, -ranks_true)[0]\n",
    "        if not (np.isnan(spearman_coef_curr) or np.isnan(kendall_coef_curr)):\n",
    "            spearman_coef += spearman_coef_curr\n",
    "            kendall_coef += kendall_coef_curr\n",
    "    return spearman_coef / N, kendall_coef / N"
   ]
  },
  {
   "cell_type": "markdown",
   "metadata": {},
   "source": [
    "Расчитаем метрики качества для тестовой выборки:"
   ]
  },
  {
   "cell_type": "code",
   "execution_count": 19,
   "metadata": {},
   "outputs": [
    {
     "name": "stdout",
     "output_type": "stream",
     "text": [
      "Средняя корреляция Спирмена test: 0.6947197380309593\n",
      "Средняя корреляция Кендалла test: 0.5411842835491985\n",
      "Средняя корреляция Спирмена test (naive): 0.7186699241947156\n",
      "Средняя корреляция Кендалла test (naive): 0.5620569623642124\n"
     ]
    }
   ],
   "source": [
    "spearman_coef, kendall_coef = calc_corr(test_results, p_rates, calc_team_proba)\n",
    "print('Средняя корреляция Спирмена test:', spearman_coef)\n",
    "print('Средняя корреляция Кендалла test:', kendall_coef)\n",
    "spearman_coef, kendall_coef = calc_corr(test_results, p_rates, calc_team_naive)\n",
    "print('Средняя корреляция Спирмена test (naive):', spearman_coef)\n",
    "print('Средняя корреляция Кендалла test (naive):', kendall_coef)"
   ]
  },
  {
   "cell_type": "code",
   "execution_count": 20,
   "metadata": {},
   "outputs": [
    {
     "name": "stdout",
     "output_type": "stream",
     "text": [
      "Лучшие игроки по версии модели baseline-1\n",
      "1. Савенко София Романовна: 0.91679348174461\n",
      "2. Лоренц Инга Андрисовна: 0.9097647650348124\n",
      "3. Подюкова Валентина : 0.905457720580542\n",
      "4. Лебедева София Евгеньевна: 0.8914847907954292\n",
      "5. Кан Давид Сергеевич: 0.8904722053095189\n",
      "6. Завьялов Михаил Владимирович: 0.8904722053095189\n",
      "7. Горелова Екатерина : 0.8852976829090053\n",
      "8. Артемьева Наталья : 0.8852976829090053\n",
      "9. Крюкова Юлия : 0.8852976829090053\n",
      "10. Бровченко Елена Борисовна: 0.8772037292422581\n"
     ]
    }
   ],
   "source": [
    "print('Лучшие игроки по версии модели baseline-1')\n",
    "for place, idx in enumerate(p_rates[p_rates != 1].sort_values(ascending=False).index[:10], 1):\n",
    "    player = players[idx]\n",
    "    print(f\"{place}. {player['surname']} {player['name']} {player['patronymic']}: {p_rates[idx]}\")"
   ]
  },
  {
   "cell_type": "markdown",
   "metadata": {},
   "source": [
    "**Выводы:**  \n",
    "1) Baseline-1 показала неплохие метрики на тестовом датасете при прогнозе результатов нового турнира.  \n",
    "2) На удивление \"наивный\" способ предсказать результаты турнира продемонстрировал более высокие показатели метрик качества по сравнению с вероятностным.  \n",
    "3) Рейтинг-лист по версии Baseline-1 получился мягко говоря непонятным, т.к. ни один из \"сильных\" игроков по версии этой модели не вошел в реальный топ-150.  \n",
    "4) Обучение Baseline-1 на локальном компьютере длилось около 18 мин. Это существенный недостаток, т.к. в дальнейшем при использовании ЕМ-алгоритма необходимо повторять итерации обучения многократно."
   ]
  },
  {
   "cell_type": "markdown",
   "metadata": {},
   "source": [
    "[К содержанию](#zero-bullet) \n",
    "\n",
    "## 3. Baseline-2 и ее предсказания <a class=\"anchor\" id=\"3\"></a>  \n",
    "\n",
    "Для устраннения недостатков baseline-1 опробуем другой подход при создании бейзлайна."
   ]
  },
  {
   "cell_type": "markdown",
   "metadata": {},
   "source": [
    "### 3.1. Дизайн Baseline-2 <a class=\"anchor\" id=\"3.1\"></a>  \n",
    "\n",
    "**Решение:**  \n",
    "\n",
    "Будем моделировать с помощью логистической регрессии вероятность того, что игрок $x$ даст правильный ответ $ans=1$ на вопрос $q$: \n",
    "\n",
    "$$P(ans=1 |x, q) = \\sigma(w_0 + w_1 x_{one-hot} + w_2 q_{one-hot})$$\n",
    "\n",
    "$w_0$ - параметр логистической регрессии - смещение (скаляр)  \n",
    "$w_1$ - параметр логистической регрессии - вектор весов, каждая компонента которого соответствует игроку из обучающей выборки  \n",
    "$w_2$ - параметр логистической регрессии - вектор весов, каждая компонента которого соответствует вопросу из обучающей выборки  \n",
    "$x_{one-hot}$ - one-hot вектор игрока, размерность вектора равна количеству уникальных игроков в обучающей выборке  \n",
    "$q_{one-hot}$ - one-hot вектор вопроса, размерность вектора равна количеству уникальных вопросов в обучающей выборке  \n",
    "\n",
    "При этом используем условие, что результаты ответа команды можно отнести к результату каждого из игроков.  \n",
    "После завершения обучения i-я компонента вектора весов $w_1$ будет содержать значение, соответствующее \"силе\" i-го игрока. Будем это значение интерпретировать как рейтинг. Аналогично, j-я компонента вектора весов $w_2$ будет интерпретироваться как \"сложность\" j-го вопроса."
   ]
  },
  {
   "cell_type": "code",
   "execution_count": 21,
   "metadata": {},
   "outputs": [
    {
     "name": "stdout",
     "output_type": "stream",
     "text": [
      "(17751584, 90656)\n"
     ]
    }
   ],
   "source": [
    "# Используем One-Hot представления для игроков и вопросов обучающей выборки\n",
    "players_enc = OneHotEncoder()  # энкодер понадобится далее\n",
    "questions_enc = OneHotEncoder()  # энкодер понадобится далее\n",
    "# Создаем датасет объединением one-hot представлений игроков и вопросов\n",
    "X = hstack((players_enc.fit_transform(df_quest_ans['p_idx'].values.reshape(-1,1)), \n",
    "            questions_enc.fit_transform(df_quest_ans['q_idx'].values.reshape(-1,1))))\n",
    "print(X.shape)"
   ]
  },
  {
   "cell_type": "code",
   "execution_count": 22,
   "metadata": {},
   "outputs": [
    {
     "name": "stdout",
     "output_type": "stream",
     "text": [
      "Wall time: 1min 9s\n"
     ]
    },
    {
     "data": {
      "text/plain": [
       "0.7711515772338964"
      ]
     },
     "execution_count": 22,
     "metadata": {},
     "output_type": "execute_result"
    }
   ],
   "source": [
    "%%time\n",
    "# Обучаем одну модель для всех игроков на всем множестве вопросов\n",
    "clf = LogisticRegression(random_state = 42, class_weight = 'balanced', solver='liblinear')\n",
    "clf.fit(X, df_quest_ans['ans'])\n",
    "clf.score(X, df_quest_ans['ans'])"
   ]
  },
  {
   "cell_type": "code",
   "execution_count": 23,
   "metadata": {},
   "outputs": [
    {
     "name": "stdout",
     "output_type": "stream",
     "text": [
      "Диапазон изменения рейтингов игроков: -4.234217100509947 4.17346240349196\n",
      "Диапазон изменения сложностей вопросов: -5.824411436920708 6.117759453886315\n"
     ]
    }
   ],
   "source": [
    "w0 = clf.intercept_\n",
    "# Обученные веса игроков - рейтинги\n",
    "p_weights = clf.coef_[0, :num_of_players]\n",
    "# Обученные веса вопросов - сложности\n",
    "q_weights = clf.coef_[0, num_of_players:]\n",
    "print('Диапазон изменения рейтингов игроков:', p_weights.min(), p_weights.max())\n",
    "print('Диапазон изменения сложностей вопросов:', q_weights.min(), q_weights.max())"
   ]
  },
  {
   "cell_type": "code",
   "execution_count": 24,
   "metadata": {},
   "outputs": [],
   "source": [
    "# Функция, возвращающая по индексу веса индекс игрока\n",
    "def from_weights_idx_to_player_idx(ind):\n",
    "    o_h_vect = np.zeros((len(ind), num_of_players))\n",
    "    for i in range(len(ind)):\n",
    "        o_h_vect[i, ind[i]] = 1\n",
    "    return players_enc.inverse_transform(o_h_vect).reshape(-1)"
   ]
  },
  {
   "cell_type": "code",
   "execution_count": 25,
   "metadata": {},
   "outputs": [],
   "source": [
    "# Функция, возвращающая по индексу веса индекс вопроса\n",
    "def from_weights_idx_to_question_idx(ind):\n",
    "    o_h_vect = np.zeros((len(ind), len(q_weights)))\n",
    "    for i in range(len(ind)):\n",
    "        o_h_vect[i, ind[i]] = 1\n",
    "    return questions_enc.inverse_transform(o_h_vect).reshape(-1)"
   ]
  },
  {
   "cell_type": "markdown",
   "metadata": {},
   "source": [
    "[К содержанию](#zero-bullet) \n",
    "### 3.2. Предсказание результата нового турнира с помощью Baseline-2 <a class=\"anchor\" id=\"3.2\"></a>\n",
    "\n",
    "Условие задачи: *Качество рейтинг-системы оценивается качеством предсказаний результатов турниров. Но сами повопросные результаты наши модели предсказывать вряд ли смогут, ведь неизвестно, насколько сложными окажутся вопросы в будущих турнирах; да и не нужны эти предсказания сами по себе. Поэтому:*\n",
    "- предложите способ предсказать результаты турнира с известными составами, но неизвестными вопросами, в виде ранжирования команд;\n",
    "- в качестве метрики качества на тестовом наборе давайте считать ранговые корреляции Спирмена и Кендалла (их можно взять в пакете scipy) между реальным ранжированием в результатах турнира и предсказанным моделью, усреднённые по тестовому множеству турниров"
   ]
  },
  {
   "cell_type": "markdown",
   "metadata": {},
   "source": [
    "**Решение:**  \n",
    "В концепции baseline-2 предполагалось, что рейтинг $r_i$ игрока $x_i$ - это i-я компонента вектора весов $w_1$, выученная логистической регрессией на обучающем наборе данных. Для предсказания результатов нового турнира необходимо рассчитать вероятность того, что игрок $x_i$ ответит на произвольный вопрос. Это можно сделать, воспользовавшись сигмоидой, на вход которой будут подаваться выученные веса смещения $w_0$ и рейтинг игрока $r_i$:\n",
    "$$P(x_i) = \\sigma(w_0 + r_i)$$\n",
    "\n",
    "Вероятность P(T) команды ответить на вопрос равна вероятности того, что хотя бы один из игроков сможет ответить на вопрос:\n",
    "$$P(T) = 1 - \\prod_{x_i \\in T} (1 - P(x_i))$$"
   ]
  },
  {
   "cell_type": "code",
   "execution_count": 26,
   "metadata": {},
   "outputs": [],
   "source": [
    "# Расчитаем вероятности того, что игрок ответит на вопрос\n",
    "p_rates = pd.Series(np.zeros(num_of_players, dtype=float), index=player_ids_train)\n",
    "# Индексы массива для выборки рейтингов игроков\n",
    "idx = np.asarray(players_enc.transform(p_rates.index.values.reshape(-1, 1)).argmax(axis = 1)).reshape(-1)\n",
    "# Для каждого игрока рассчитаем вероятность без учета самого вопроса\n",
    "p_rates[p_rates.index] = 1 / (1 + np.exp(-(w0 + p_weights[idx])))\n",
    "# p_rates"
   ]
  },
  {
   "cell_type": "code",
   "execution_count": 27,
   "metadata": {},
   "outputs": [
    {
     "name": "stdout",
     "output_type": "stream",
     "text": [
      "Средняя корреляция Спирмена test: 0.7896588120295175\n",
      "Средняя корреляция Кендалла test: 0.6348857275849283\n",
      "Средняя корреляция Спирмена test (naive): 0.7756514201156461\n",
      "Средняя корреляция Кендалла test (naive): 0.6191414496241937\n"
     ]
    }
   ],
   "source": [
    "# Рассчитаем метрики для тестового датасета\n",
    "spearman_coef, kendall_coef = calc_corr(test_results, p_rates, calc_team_proba)\n",
    "print('Средняя корреляция Спирмена test:', spearman_coef)\n",
    "print('Средняя корреляция Кендалла test:', kendall_coef)\n",
    "spearman_coef, kendall_coef = calc_corr(test_results, p_rates, calc_team_naive)\n",
    "print('Средняя корреляция Спирмена test (naive):', spearman_coef)\n",
    "print('Средняя корреляция Кендалла test (naive):', kendall_coef)"
   ]
  },
  {
   "cell_type": "code",
   "execution_count": 28,
   "metadata": {},
   "outputs": [
    {
     "name": "stdout",
     "output_type": "stream",
     "text": [
      "Лучшие игроки по версии модели baseline-2 и их рейтинги:\n",
      "1. Руссо Максим Михайлович: 4.17346240349196\n",
      "2. Брутер Александра Владимировна: 4.050212848559131\n",
      "3. Семушин Иван Николаевич: 4.0068371523470585\n",
      "4. Савченков Михаил Владимирович: 3.913646535883687\n",
      "5. Спешков Сергей Леонидович: 3.8390835148070312\n",
      "6. Сорожкин Артём Сергеевич: 3.8349542416463223\n",
      "7. Мереминский Станислав Григорьевич: 3.712790692870442\n",
      "8. Левандовский Михаил Ильич: 3.6656151385820657\n",
      "9. Прокофьева Ирина Сергеевна: 3.615468360086241\n",
      "10. Николенко Сергей Игоревич: 3.600688784475799\n"
     ]
    }
   ],
   "source": [
    "TOP = 10\n",
    "best_weights_id = np.argsort(p_weights)[-1:-TOP - 1:-1]\n",
    "best_players_id = from_weights_idx_to_player_idx(best_weights_id)\n",
    "print('Лучшие игроки по версии модели baseline-2 и их рейтинги:')\n",
    "for i in range(len(best_players_id)):\n",
    "    player = players[best_players_id[i]]\n",
    "    weight_id = best_weights_id[i]\n",
    "    print(f\"{i + 1}. {player['surname']} {player['name']} {player['patronymic']}: {p_weights[weight_id]}\")"
   ]
  },
  {
   "cell_type": "markdown",
   "metadata": {},
   "source": [
    "**Выводы:**  \n",
    "1) Для дизайна Baseline-2 была использована более простая концепция.  \n",
    "2) Baseline-2 показал хорошие результаты при прогнозе результатов нового турнира и превысил метрики Baseline-1.  \n",
    "3) Топ-10 рейтинг-листа по версии Baseline-2 получился хорошо согласующимся с реальным рейтингом игроков.  \n",
    "4) Обучение Baseline-2 на локальном компьютере длилось около 1 мин. Данная модель существенно быстрее, чем Baseline-1, и лучше по метрикам. В дальнейшем для использования в ЕМ-алгоритме будет использоваться Baseline-2.\n",
    "\n",
    "[К содержанию](#zero-bullet) "
   ]
  },
  {
   "cell_type": "markdown",
   "metadata": {},
   "source": [
    "## 4. ЕМ-алгоритм <a class=\"anchor\" id=\"4\"></a>   \n",
    "\n",
    "Условие задачи: *Теперь главное: ЧГК — это всё-таки командная игра. Поэтому:*  \n",
    "- предложите способ учитывать то, что на вопрос отвечают сразу несколько игроков; скорее всего, понадобятся скрытые переменные; не стесняйтесь делать упрощающие предположения, но теперь переменные “игрок X ответил на вопрос Y” при условии данных должны стать зависимыми для игроков одной и той же команды;\n",
    "- разработайте EM-схему для обучения этой модели, реализуйте её в коде;\n",
    "- обучите несколько итераций, убедитесь, что целевые метрики со временем растут (скорее всего, ненамного, но расти должны), выберите лучшую модель, используя целевые метрики."
   ]
  },
  {
   "cell_type": "markdown",
   "metadata": {},
   "source": [
    "**Решение:**  \n",
    "\n",
    "В данной задаче видимой переменной является правильный ответ команды. Введем скрытую переменную: правильный ответ игрока $z_i$. Теперь, в отличие от бейзлайна, данная величина будет зависеть от результатов команды, в которой человек играет в текущий момент: $z_i = P(x_i|T)$\n",
    "\n",
    "Используя формулу Байеса, получим:\n",
    "$$z_i = P(x_i|T) = \\frac{P(T|x_i)P(x_i)}{P(T)} $$\n",
    "\n",
    "Если игрок $x_i$ правильно ответил на вопрос, тогда и его команда правильно ответила на вопрос, поэтому $P(T|x_i) = 1$. Если команда на вопрос не ответила, тогда и игрок $x_i$ не смог ответить на вопрос, и в этом случае $z_i=0$. В итоге получим следующие соотношения: \n",
    "\n",
    "Е-шаг:  \n",
    "$E[z_i]=0$, если команда НЕ ответила на вопрос  \n",
    "$E[z_i]= \\frac{P(x_i)}{1 - \\prod_{x_i \\in T} (1 - P(x_i))}$, если команда ответила на вопрос  \n",
    "\n",
    "М-шаг:  \n",
    "На M-шаге будем максимизировать матожидание правдоподобия по параметрам модели, т.е. просто обучаем логистическую регрессию. Только теперь, в отличии от бейзлайна, будем обучать регрессию на матожиданиях, полученных на Е-шаге.\n",
    "\n",
    "Примечание: стандартные реализации логистической регрессии не предполагают обучение на \"soft\"-метках. Для преодоления этого ограничения будем обучать линейную регрессию на логит-значениях мягких меток. На этапе инференса будем трансформировать выход обученной модели с помощью сигмоиды."
   ]
  },
  {
   "cell_type": "code",
   "execution_count": 29,
   "metadata": {},
   "outputs": [],
   "source": [
    "# Функция, реализующая ЕМ-алгоритм\n",
    "def em_alg(em_model, p, data, iters = 5):\n",
    "    df_quest_ans = deepcopy(data)\n",
    "    for i in range(iters):\n",
    "        print(f'Итерация ЕМ-алгоритма {i + 1} из {iters}:')\n",
    "\n",
    "        '''M-STEP: обучаем модель на вероятностях, полученных на предыдущем шаге'''\n",
    "\n",
    "        em_model.fit(X, logit(p))\n",
    "        \n",
    "        # Считываем рейтинги игроков и сложности вопросов\n",
    "        w0 = em_model.intercept_\n",
    "        p_weights = em_model.coef_[:num_of_players]\n",
    "        q_weights = em_model.coef_[num_of_players:]\n",
    "        # Расчет метрик качества\n",
    "        p_rates = pd.Series(np.zeros(num_of_players, dtype=float), index=player_ids_train)\n",
    "        idx = np.asarray(players_enc.transform(p_rates.index.values.reshape(-1, 1)).argmax(axis = 1)).reshape(-1)\n",
    "        p_rates[p_rates.index] = 1 / (1 + np.exp(-(w0 + p_weights[idx])))\n",
    "        \n",
    "        spearman_coef, kendall_coef = calc_corr(test_results, p_rates, calc_team_proba)\n",
    "        print('Средняя корреляция Спирмена test:', spearman_coef)\n",
    "        print('Средняя корреляция Кендалла test:', kendall_coef)\n",
    "\n",
    "        '''E-STEP: рассчитываем значения скрытых переменных'''\n",
    "\n",
    "        p = expit(em_model.predict(X))  # прогноз модели, обученной на Е-шаге\n",
    "        # Расчет скрытых переменных с учетом предположений\n",
    "        df_quest_ans = df_quest_ans[['q_idx', 't_idx', 'p_idx', 'ans']]\n",
    "        df_quest_ans['p'] = p\n",
    "        df_quest_ans['1-p'] = 1 - df_quest_ans['p']\n",
    "        df_quest_ans = df_quest_ans.merge(df_quest_ans.groupby(['q_idx', 't_idx'])['1-p'].prod().rename('z'),\n",
    "                                          left_on=['q_idx', 't_idx'], right_index = True)\n",
    "        df_quest_ans['z'] = df_quest_ans['p'] / (1 - df_quest_ans['z'])\n",
    "        df_quest_ans['z'] = df_quest_ans['z'] * df_quest_ans['ans']\n",
    "        p = np.clip(df_quest_ans['z'], EPS, 1-EPS)\n",
    "   \n",
    "        print()\n",
    "    return w0, p_weights, q_weights"
   ]
  },
  {
   "cell_type": "markdown",
   "metadata": {},
   "source": [
    "Для получения начальных значений вероятностей используем предсказания модели baseline-2:"
   ]
  },
  {
   "cell_type": "code",
   "execution_count": 30,
   "metadata": {},
   "outputs": [
    {
     "data": {
      "text/plain": [
       "array([9.89484915e-01, 9.90307098e-01, 9.91284623e-01, ...,\n",
       "       1.00000000e-05, 1.00000000e-05, 1.00000000e-05])"
      ]
     },
     "execution_count": 30,
     "metadata": {},
     "output_type": "execute_result"
    }
   ],
   "source": [
    "# Модель, используемая в ЕМ-алгоритме для обучения на \"мягких\" метках\n",
    "em_model = LinearRegression(n_jobs = -1)\n",
    "df_quest_ans = df_quest_ans[['q_idx', 't_idx', 'p_idx', 'ans']]\n",
    "\n",
    "# Для получения начальных значений вероятностей используем предсказания модели baseline-2:\n",
    "initial_p = clf.predict_proba(X)[:, 1] * df_quest_ans['ans'].values\n",
    "initial_p = np.clip(initial_p, EPS, 1-EPS)\n",
    "initial_p"
   ]
  },
  {
   "cell_type": "markdown",
   "metadata": {},
   "source": [
    "Запускаем ЕМ-алгоритм:"
   ]
  },
  {
   "cell_type": "code",
   "execution_count": 31,
   "metadata": {},
   "outputs": [
    {
     "name": "stdout",
     "output_type": "stream",
     "text": [
      "Итерация ЕМ-алгоритма 1 из 5:\n",
      "Средняя корреляция Спирмена test: 0.7942024610003388\n",
      "Средняя корреляция Кендалла test: 0.6406717266535726\n",
      "\n",
      "Итерация ЕМ-алгоритма 2 из 5:\n",
      "Средняя корреляция Спирмена test: 0.7999171624060414\n",
      "Средняя корреляция Кендалла test: 0.6464531507199981\n",
      "\n",
      "Итерация ЕМ-алгоритма 3 из 5:\n",
      "Средняя корреляция Спирмена test: 0.8026870474268888\n",
      "Средняя корреляция Кендалла test: 0.6496744224411717\n",
      "\n",
      "Итерация ЕМ-алгоритма 4 из 5:\n",
      "Средняя корреляция Спирмена test: 0.8040096719001942\n",
      "Средняя корреляция Кендалла test: 0.6509222834800521\n",
      "\n",
      "Итерация ЕМ-алгоритма 5 из 5:\n",
      "Средняя корреляция Спирмена test: 0.8043880882233918\n",
      "Средняя корреляция Кендалла test: 0.651574098059334\n",
      "\n",
      "Wall time: 10min 29s\n"
     ]
    }
   ],
   "source": [
    "%%time\n",
    "w0, p_weights, q_weights = em_alg(em_model, initial_p, df_quest_ans, iters = 5)"
   ]
  },
  {
   "cell_type": "code",
   "execution_count": 32,
   "metadata": {},
   "outputs": [
    {
     "name": "stdout",
     "output_type": "stream",
     "text": [
      "Диапазон изменения рейтингов игроков после ЕМ-алгоритма: -6.598923430200447 13.184286887841266\n",
      "Диапазон изменения сложностей вопросов после ЕМ-алгоритма: -8.5118460124692 18.020979372606632\n"
     ]
    }
   ],
   "source": [
    "# Выученные рейтинги игроков и сложности вопросов\n",
    "w0 = em_model.intercept_\n",
    "p_weights = em_model.coef_[:num_of_players]\n",
    "q_weights = em_model.coef_[num_of_players:]\n",
    "print('Диапазон изменения рейтингов игроков после ЕМ-алгоритма:', p_weights.min(), p_weights.max())\n",
    "print('Диапазон изменения сложностей вопросов после ЕМ-алгоритма:', q_weights.min(), q_weights.max())"
   ]
  },
  {
   "cell_type": "markdown",
   "metadata": {},
   "source": [
    "**Выводы:**  \n",
    "1) В ходе итераций ЕМ-алгоритма метрики качества на обучающей выборке возрастали  \n",
    "2) По результатам работы ЕМ-алгоритма метрики качества на тестовом датасете улучшились по сравнению с бейзлайном.  \n",
    "3) Диапазоны значений рейтингов игроков и сложности вопросов увеличились по сравнению с baseline-моделью.\n",
    "\n",
    "[К содержанию](#zero-bullet) "
   ]
  },
  {
   "cell_type": "markdown",
   "metadata": {},
   "source": [
    "## 5. Рейтинг-лист турниров по сложности вопросов <a class=\"anchor\" id=\"5\"></a>  \n",
    "\n",
    "Условие задачи: *А что там с вопросами? Постройте “рейтинг-лист” турниров по сложности вопросов. Соответствует ли он интуиции (например, на чемпионате мира в целом должны быть сложные вопросы, а на турнирах для школьников — простые)? Если будет  интересно: постройте топ сложных и простых вопросов со ссылками на конкретные записи в базе вопросов ЧГК (это чисто техническое дело, тут никакого ML нету).*  \n",
    "\n",
    "**Решение:**  \n",
    "В ходе обучения моделью были \"выучены\" сложности вопросов. Будем оценивать сложность турнира как среднее значение сложностей вопросов, заданных на турнире. Рассчитаем сложность турниров для baseline- и ЕМ-модели. "
   ]
  },
  {
   "cell_type": "markdown",
   "metadata": {},
   "source": [
    "### 5.1. Рейтинг-лист турниров по baseline-модели <a class=\"anchor\" id=\"5.1\"></a>  "
   ]
  },
  {
   "cell_type": "code",
   "execution_count": 33,
   "metadata": {},
   "outputs": [],
   "source": [
    "# Функция рассчета сложности турниров\n",
    "def calc_tourn_diff(results, q_weights):\n",
    "    questions_rating = {'t_id': [],'q_id': [], 'rating': []}\n",
    "    for tourn_id, result in results.items():\n",
    "        cur_rating = [0] * len(result[0]['mask'])\n",
    "        for i in range(len(cur_rating)):\n",
    "            questions_rating['t_id'].append(tourn_id)\n",
    "            questions_rating['q_id'].append(10000 * tourn_id + i)\n",
    "            questions_rating['rating'].append(0)\n",
    "    questions_rating = pd.DataFrame(questions_rating)\n",
    "    questions_rating['rating'] = q_weights\n",
    "    tourn_diff = questions_rating.groupby(['t_id'])[['t_id', 'rating']].mean().reset_index(drop=True)\n",
    "    return tourn_diff.sort_values(by = ['rating'])"
   ]
  },
  {
   "cell_type": "code",
   "execution_count": 34,
   "metadata": {},
   "outputs": [
    {
     "name": "stdout",
     "output_type": "stream",
     "text": [
      "Самые сложные турниры baseline-модели:\n",
      " 1. Чемпионат Санкт-Петербурга. Первая лига\n",
      " 2. Угрюмый Ёрш\n",
      " 3. Синхрон высшей лиги Москвы\n",
      " 4. Первенство правого полушария\n",
      " 5. Воображаемый музей\n",
      " 6. Записки охотника\n",
      " 7. Кубок городов\n",
      " 8. Знание – Сила VI\n",
      " 9. Ускользающая сова\n",
      "10. Чемпионат России\n",
      "\n",
      "Самые простые турниры baseline-модели:\n",
      " 1. (а)Синхрон-lite. Лига старта. Эпизод V\n",
      " 2. (а)Синхрон-lite. Лига старта. Эпизод III\n",
      " 3. (а)Синхрон-lite. Лига старта. Эпизод IX\n",
      " 4. Синхрон Лиги Разума\n",
      " 5. (а)Синхрон-lite. Лига старта. Эпизод VII\n",
      " 6. Школьный Синхрон-lite. Выпуск 2.5\n",
      " 7. (а)Синхрон-lite. Лига старта. Эпизод IV\n",
      " 8. Студенческий чемпионат Калининградской области\n",
      " 9. Школьная лига. I тур.\n",
      "10. Школьная лига\n"
     ]
    }
   ],
   "source": [
    "q_weights = clf.coef_[0, num_of_players:]\n",
    "tournament_diffs = calc_tourn_diff(train_results, q_weights)\n",
    "\n",
    "print('Самые сложные турниры baseline-модели:')\n",
    "for i, tourn_name in enumerate(tournament_diffs['t_id'][:10]):\n",
    "    print(f'{i + 1:2}. {tournaments[tourn_name][\"name\"]}')\n",
    "print()\n",
    "print('Самые простые турниры baseline-модели:')\n",
    "for i, tourn_name in enumerate(tournament_diffs['t_id'][-1:-11:-1]):\n",
    "    print(f'{i + 1:2}. {tournaments[tourn_name][\"name\"]}')"
   ]
  },
  {
   "cell_type": "markdown",
   "metadata": {},
   "source": [
    "[К содержанию](#zero-bullet) "
   ]
  },
  {
   "cell_type": "markdown",
   "metadata": {},
   "source": [
    "### 5.2. Рейтинг-лист турниров по EM-модели <a class=\"anchor\" id=\"5.2\"></a>  "
   ]
  },
  {
   "cell_type": "code",
   "execution_count": 35,
   "metadata": {},
   "outputs": [
    {
     "name": "stdout",
     "output_type": "stream",
     "text": [
      "Самые сложные турниры ЕМ-модели:\n",
      " 1. Чемпионат Санкт-Петербурга. Первая лига\n",
      " 2. Угрюмый Ёрш\n",
      " 3. Синхрон высшей лиги Москвы\n",
      " 4. Воображаемый музей\n",
      " 5. Первенство правого полушария\n",
      " 6. Чемпионат Мира. Этап 2. Группа В\n",
      " 7. Чемпионат России\n",
      " 8. Знание – Сила VI\n",
      " 9. Чемпионат Мира. Этап 2. Группа А\n",
      "10. Чемпионат Мира. Этап 3. Группа В\n",
      "\n",
      "Самые простые турниры ЕМ-модели:\n",
      " 1. One ring - async\n",
      " 2. Синхрон Лиги Разума\n",
      " 3. (а)Синхрон-lite. Лига старта. Эпизод V\n",
      " 4. Студенческий чемпионат Калининградской области\n",
      " 5. Школьная лига. III тур.\n",
      " 6. Школьная лига. I тур.\n",
      " 7. Школьный Синхрон-lite. Выпуск 2.5\n",
      " 8. (а)Синхрон-lite. Лига старта. Эпизод IX\n",
      " 9. (а)Синхрон-lite. Лига старта. Эпизод VII\n",
      "10. Школьная лига\n"
     ]
    }
   ],
   "source": [
    "q_weights = em_model.coef_[num_of_players:]\n",
    "tournament_diffs = calc_tourn_diff(train_results, q_weights)\n",
    "\n",
    "print('Самые сложные турниры ЕМ-модели:')\n",
    "for i, tourn_name in enumerate(tournament_diffs['t_id'][:10]):\n",
    "    print(f'{i + 1:2}. {tournaments[tourn_name][\"name\"]}')\n",
    "print()\n",
    "print('Самые простые турниры ЕМ-модели:')\n",
    "for i, tourn_name in enumerate(tournament_diffs['t_id'][-1:-11:-1]):\n",
    "    print(f'{i + 1:2}. {tournaments[tourn_name][\"name\"]}')"
   ]
  },
  {
   "cell_type": "markdown",
   "metadata": {},
   "source": [
    "**Выводы:**  \n",
    "1) Рейтинг-листы ЕМ-модели достаточно хорошо соответствуют интуиции: самые сложные по ее версии турниры - это чемпионаты мира и России. Самые простые - школьные лиги и Синхрон-lite.  \n",
    "2) Рейтинг-листы baseline-модели чуть менее интуитивные, особенно это касается самых сложных турниров: странно, но в этот список не попали чемпионаты мира.  \n",
    "3) В целом складывается такое ощущение, что ЕМ-модель гораздо лучше выучивает сложности вопросов, чем baseline-модель.   \n",
    "\n",
    "[К содержанию](#zero-bullet) "
   ]
  },
  {
   "cell_type": "markdown",
   "metadata": {},
   "source": [
    "## 6. Бонус 1. Рейтинг игроков <a class=\"anchor\" id=\"6\"></a>  \n",
    "Условие задачи: *постройте топ игроков по предсказанной вашей моделью силе игры, а рядом с именами игроков напишите общее число вопросов, которое они сыграли. Скорее всего, вы увидите, что топ занят игроками, которые сыграли совсем мало вопросов, около 100 или даже меньше; если вы поищете их в официальном рейтинге ЧГК, вы увидите, что это какие-то непонятные ноунеймы . В baseline-модели, скорее всего, такой эффект будет гораздо слабее.*  \n",
    "\n",
    "*Это естественное свойство модели: за счёт EM-схемы влияние 1-2 удачно сыгранных турниров будет только усиливаться, потому что неудачных турниров, чтобы его компенсировать, у этих игроков нет. Более того, это не мешает метрикам качества, потому что если эти игроки сыграли всего 1-2 турнира в 2019-м, скорее всего они ничего или очень мало сыграли и в 2020, и их рейтинги никак не влияют на качество тестовых предсказаний. Но для реального рейтинга такое свойство, конечно, было бы крайне нежелательным. Давайте попробуем его исправить:*  \n",
    "- сначала жёстко: выберите разумную отсечку по числу вопросов, учитывая, что в одном турнире их обычно 30-50;\n",
    "- можно ли просто выбросить игроков, которые мало играли, и переобучить модель? почему? предложите, как нужно изменить модель, чтобы не учитывать слишком мало сыгравших, и переобучите модель;\n",
    "- но всё-таки это не слишком хорошее решение: если выбрать маленькую отсечку, будут ноунеймы в топе, а если большую, то получится, что у нового игрока слишком долго не будет рейтинга; скорее всего, никакой “золотой середины” тут не получится;\n",
    "- предложите более концептуальное решение для топа игроков в рейтинг-листе; если получится, реализуйте его на практике (за это уж точно будут серьёзные бонусные баллы).\n"
   ]
  },
  {
   "cell_type": "code",
   "execution_count": 36,
   "metadata": {},
   "outputs": [
    {
     "data": {
      "text/html": [
       "<div>\n",
       "<style scoped>\n",
       "    .dataframe tbody tr th:only-of-type {\n",
       "        vertical-align: middle;\n",
       "    }\n",
       "\n",
       "    .dataframe tbody tr th {\n",
       "        vertical-align: top;\n",
       "    }\n",
       "\n",
       "    .dataframe thead th {\n",
       "        text-align: right;\n",
       "    }\n",
       "</style>\n",
       "<table border=\"1\" class=\"dataframe\">\n",
       "  <thead>\n",
       "    <tr style=\"text-align: right;\">\n",
       "      <th></th>\n",
       "      <th>player_id</th>\n",
       "      <th>player_name</th>\n",
       "      <th>num_q</th>\n",
       "      <th>rating</th>\n",
       "    </tr>\n",
       "  </thead>\n",
       "  <tbody>\n",
       "    <tr>\n",
       "      <th>0</th>\n",
       "      <td>38175</td>\n",
       "      <td>Пилипенко Максим Игоревич</td>\n",
       "      <td>36</td>\n",
       "      <td>13.184287</td>\n",
       "    </tr>\n",
       "    <tr>\n",
       "      <th>1</th>\n",
       "      <td>22474</td>\n",
       "      <td>Немец Илья Сергеевич</td>\n",
       "      <td>75</td>\n",
       "      <td>11.832315</td>\n",
       "    </tr>\n",
       "    <tr>\n",
       "      <th>2</th>\n",
       "      <td>199963</td>\n",
       "      <td>Бровченко Елена Борисовна</td>\n",
       "      <td>36</td>\n",
       "      <td>11.521486</td>\n",
       "    </tr>\n",
       "    <tr>\n",
       "      <th>3</th>\n",
       "      <td>14996</td>\n",
       "      <td>Козлова Ольга Александровна</td>\n",
       "      <td>36</td>\n",
       "      <td>10.229845</td>\n",
       "    </tr>\n",
       "    <tr>\n",
       "      <th>4</th>\n",
       "      <td>202410</td>\n",
       "      <td>Подюкова Валентина</td>\n",
       "      <td>36</td>\n",
       "      <td>10.134855</td>\n",
       "    </tr>\n",
       "    <tr>\n",
       "      <th>5</th>\n",
       "      <td>133504</td>\n",
       "      <td>Лебедева София Евгеньевна</td>\n",
       "      <td>36</td>\n",
       "      <td>9.944602</td>\n",
       "    </tr>\n",
       "    <tr>\n",
       "      <th>6</th>\n",
       "      <td>121433</td>\n",
       "      <td>Савенко София Романовна</td>\n",
       "      <td>36</td>\n",
       "      <td>9.816488</td>\n",
       "    </tr>\n",
       "    <tr>\n",
       "      <th>7</th>\n",
       "      <td>212663</td>\n",
       "      <td>Губина Майя Александровна</td>\n",
       "      <td>72</td>\n",
       "      <td>9.724489</td>\n",
       "    </tr>\n",
       "    <tr>\n",
       "      <th>8</th>\n",
       "      <td>4876</td>\n",
       "      <td>Вакуленко Владимир Сергеевич</td>\n",
       "      <td>36</td>\n",
       "      <td>9.447781</td>\n",
       "    </tr>\n",
       "    <tr>\n",
       "      <th>9</th>\n",
       "      <td>123750</td>\n",
       "      <td>Завьялов Сергей Андреевич</td>\n",
       "      <td>36</td>\n",
       "      <td>9.059117</td>\n",
       "    </tr>\n",
       "    <tr>\n",
       "      <th>10</th>\n",
       "      <td>201102</td>\n",
       "      <td>Молчанова Софья Павловна</td>\n",
       "      <td>72</td>\n",
       "      <td>9.050217</td>\n",
       "    </tr>\n",
       "    <tr>\n",
       "      <th>11</th>\n",
       "      <td>33459</td>\n",
       "      <td>Фрайман Феликс</td>\n",
       "      <td>36</td>\n",
       "      <td>8.949104</td>\n",
       "    </tr>\n",
       "    <tr>\n",
       "      <th>12</th>\n",
       "      <td>40411</td>\n",
       "      <td>Кудинов Дмитрий Сергеевич</td>\n",
       "      <td>45</td>\n",
       "      <td>8.888875</td>\n",
       "    </tr>\n",
       "    <tr>\n",
       "      <th>13</th>\n",
       "      <td>212666</td>\n",
       "      <td>Печёнкина Анна Сергеевна</td>\n",
       "      <td>72</td>\n",
       "      <td>8.888003</td>\n",
       "    </tr>\n",
       "    <tr>\n",
       "      <th>14</th>\n",
       "      <td>163668</td>\n",
       "      <td>Титов Георгий Михайлович</td>\n",
       "      <td>36</td>\n",
       "      <td>8.871574</td>\n",
       "    </tr>\n",
       "  </tbody>\n",
       "</table>\n",
       "</div>"
      ],
      "text/plain": [
       "    player_id                   player_name  num_q     rating\n",
       "0       38175     Пилипенко Максим Игоревич     36  13.184287\n",
       "1       22474          Немец Илья Сергеевич     75  11.832315\n",
       "2      199963     Бровченко Елена Борисовна     36  11.521486\n",
       "3       14996   Козлова Ольга Александровна     36  10.229845\n",
       "4      202410           Подюкова Валентина      36  10.134855\n",
       "5      133504     Лебедева София Евгеньевна     36   9.944602\n",
       "6      121433       Савенко София Романовна     36   9.816488\n",
       "7      212663     Губина Майя Александровна     72   9.724489\n",
       "8        4876  Вакуленко Владимир Сергеевич     36   9.447781\n",
       "9      123750     Завьялов Сергей Андреевич     36   9.059117\n",
       "10     201102      Молчанова Софья Павловна     72   9.050217\n",
       "11      33459               Фрайман Феликс      36   8.949104\n",
       "12      40411     Кудинов Дмитрий Сергеевич     45   8.888875\n",
       "13     212666      Печёнкина Анна Сергеевна     72   8.888003\n",
       "14     163668      Титов Георгий Михайлович     36   8.871574"
      ]
     },
     "execution_count": 36,
     "metadata": {},
     "output_type": "execute_result"
    }
   ],
   "source": [
    "def calc_player_rates(train_df, p_weights):\n",
    "    # Подсчитаем общее число сыгранных вопросов num_q\n",
    "    p_rates_em = train_df[['player_id', 'player_name']].drop_duplicates('player_id').reset_index(drop=True).copy()\n",
    "    p_rates_em = p_rates_em.merge(train_df.groupby('player_id')['mask_len'].sum().rename('num_q'),\n",
    "                                  left_on='player_id', right_index=True)\n",
    "    idx = np.asarray(players_enc.transform(p_rates_em['player_id'].values.reshape(-1, 1)).argmax(axis = 1)).reshape(-1)\n",
    "    p_rates_em['rating'] = p_weights[idx]\n",
    "    return p_rates_em.sort_values('rating', ascending=False).reset_index(drop=True)\n",
    "\n",
    "p_rates_em = calc_player_rates(train_df, p_weights)\n",
    "p_rates_em.head(15)"
   ]
  },
  {
   "cell_type": "markdown",
   "metadata": {},
   "source": [
    "Выведем топ игроков в порядке убывания рейтинга"
   ]
  },
  {
   "cell_type": "code",
   "execution_count": 37,
   "metadata": {},
   "outputs": [
    {
     "data": {
      "text/html": [
       "<div>\n",
       "<style scoped>\n",
       "    .dataframe tbody tr th:only-of-type {\n",
       "        vertical-align: middle;\n",
       "    }\n",
       "\n",
       "    .dataframe tbody tr th {\n",
       "        vertical-align: top;\n",
       "    }\n",
       "\n",
       "    .dataframe thead th {\n",
       "        text-align: right;\n",
       "    }\n",
       "</style>\n",
       "<table border=\"1\" class=\"dataframe\">\n",
       "  <thead>\n",
       "    <tr style=\"text-align: right;\">\n",
       "      <th></th>\n",
       "      <th>player_id</th>\n",
       "      <th>player_name</th>\n",
       "      <th>num_q</th>\n",
       "      <th>rating</th>\n",
       "    </tr>\n",
       "  </thead>\n",
       "  <tbody>\n",
       "    <tr>\n",
       "      <th>0</th>\n",
       "      <td>38175</td>\n",
       "      <td>Пилипенко Максим Игоревич</td>\n",
       "      <td>36</td>\n",
       "      <td>13.184287</td>\n",
       "    </tr>\n",
       "    <tr>\n",
       "      <th>1</th>\n",
       "      <td>22474</td>\n",
       "      <td>Немец Илья Сергеевич</td>\n",
       "      <td>75</td>\n",
       "      <td>11.832315</td>\n",
       "    </tr>\n",
       "    <tr>\n",
       "      <th>2</th>\n",
       "      <td>199963</td>\n",
       "      <td>Бровченко Елена Борисовна</td>\n",
       "      <td>36</td>\n",
       "      <td>11.521486</td>\n",
       "    </tr>\n",
       "    <tr>\n",
       "      <th>3</th>\n",
       "      <td>14996</td>\n",
       "      <td>Козлова Ольга Александровна</td>\n",
       "      <td>36</td>\n",
       "      <td>10.229845</td>\n",
       "    </tr>\n",
       "    <tr>\n",
       "      <th>4</th>\n",
       "      <td>202410</td>\n",
       "      <td>Подюкова Валентина</td>\n",
       "      <td>36</td>\n",
       "      <td>10.134855</td>\n",
       "    </tr>\n",
       "    <tr>\n",
       "      <th>5</th>\n",
       "      <td>133504</td>\n",
       "      <td>Лебедева София Евгеньевна</td>\n",
       "      <td>36</td>\n",
       "      <td>9.944602</td>\n",
       "    </tr>\n",
       "    <tr>\n",
       "      <th>6</th>\n",
       "      <td>121433</td>\n",
       "      <td>Савенко София Романовна</td>\n",
       "      <td>36</td>\n",
       "      <td>9.816488</td>\n",
       "    </tr>\n",
       "    <tr>\n",
       "      <th>7</th>\n",
       "      <td>212663</td>\n",
       "      <td>Губина Майя Александровна</td>\n",
       "      <td>72</td>\n",
       "      <td>9.724489</td>\n",
       "    </tr>\n",
       "    <tr>\n",
       "      <th>8</th>\n",
       "      <td>4876</td>\n",
       "      <td>Вакуленко Владимир Сергеевич</td>\n",
       "      <td>36</td>\n",
       "      <td>9.447781</td>\n",
       "    </tr>\n",
       "    <tr>\n",
       "      <th>9</th>\n",
       "      <td>123750</td>\n",
       "      <td>Завьялов Сергей Андреевич</td>\n",
       "      <td>36</td>\n",
       "      <td>9.059117</td>\n",
       "    </tr>\n",
       "    <tr>\n",
       "      <th>10</th>\n",
       "      <td>201102</td>\n",
       "      <td>Молчанова Софья Павловна</td>\n",
       "      <td>72</td>\n",
       "      <td>9.050217</td>\n",
       "    </tr>\n",
       "    <tr>\n",
       "      <th>11</th>\n",
       "      <td>33459</td>\n",
       "      <td>Фрайман Феликс</td>\n",
       "      <td>36</td>\n",
       "      <td>8.949104</td>\n",
       "    </tr>\n",
       "    <tr>\n",
       "      <th>12</th>\n",
       "      <td>40411</td>\n",
       "      <td>Кудинов Дмитрий Сергеевич</td>\n",
       "      <td>45</td>\n",
       "      <td>8.888875</td>\n",
       "    </tr>\n",
       "    <tr>\n",
       "      <th>13</th>\n",
       "      <td>212666</td>\n",
       "      <td>Печёнкина Анна Сергеевна</td>\n",
       "      <td>72</td>\n",
       "      <td>8.888003</td>\n",
       "    </tr>\n",
       "    <tr>\n",
       "      <th>14</th>\n",
       "      <td>163668</td>\n",
       "      <td>Титов Георгий Михайлович</td>\n",
       "      <td>36</td>\n",
       "      <td>8.871574</td>\n",
       "    </tr>\n",
       "  </tbody>\n",
       "</table>\n",
       "</div>"
      ],
      "text/plain": [
       "    player_id                   player_name  num_q     rating\n",
       "0       38175     Пилипенко Максим Игоревич     36  13.184287\n",
       "1       22474          Немец Илья Сергеевич     75  11.832315\n",
       "2      199963     Бровченко Елена Борисовна     36  11.521486\n",
       "3       14996   Козлова Ольга Александровна     36  10.229845\n",
       "4      202410           Подюкова Валентина      36  10.134855\n",
       "5      133504     Лебедева София Евгеньевна     36   9.944602\n",
       "6      121433       Савенко София Романовна     36   9.816488\n",
       "7      212663     Губина Майя Александровна     72   9.724489\n",
       "8        4876  Вакуленко Владимир Сергеевич     36   9.447781\n",
       "9      123750     Завьялов Сергей Андреевич     36   9.059117\n",
       "10     201102      Молчанова Софья Павловна     72   9.050217\n",
       "11      33459               Фрайман Феликс      36   8.949104\n",
       "12      40411     Кудинов Дмитрий Сергеевич     45   8.888875\n",
       "13     212666      Печёнкина Анна Сергеевна     72   8.888003\n",
       "14     163668      Титов Георгий Михайлович     36   8.871574"
      ]
     },
     "execution_count": 37,
     "metadata": {},
     "output_type": "execute_result"
    }
   ],
   "source": [
    "p_rates_em.sort_values('rating', ascending=False).reset_index(drop=True).head(15)"
   ]
  },
  {
   "cell_type": "markdown",
   "metadata": {},
   "source": [
    "Как и предполагалось в условии, топ рейтинга занят малоизвестными игроками, у которых число сыгранных вопросов невелико.  \n",
    "Посмотрим на рейтинг игроков с грубой отсечкой по количеству игр:"
   ]
  },
  {
   "cell_type": "code",
   "execution_count": 38,
   "metadata": {},
   "outputs": [
    {
     "data": {
      "text/html": [
       "<div>\n",
       "<style scoped>\n",
       "    .dataframe tbody tr th:only-of-type {\n",
       "        vertical-align: middle;\n",
       "    }\n",
       "\n",
       "    .dataframe tbody tr th {\n",
       "        vertical-align: top;\n",
       "    }\n",
       "\n",
       "    .dataframe thead th {\n",
       "        text-align: right;\n",
       "    }\n",
       "</style>\n",
       "<table border=\"1\" class=\"dataframe\">\n",
       "  <thead>\n",
       "    <tr style=\"text-align: right;\">\n",
       "      <th></th>\n",
       "      <th>player_id</th>\n",
       "      <th>player_name</th>\n",
       "      <th>num_q</th>\n",
       "      <th>rating</th>\n",
       "    </tr>\n",
       "  </thead>\n",
       "  <tbody>\n",
       "    <tr>\n",
       "      <th>0</th>\n",
       "      <td>27403</td>\n",
       "      <td>Руссо Максим Михайлович</td>\n",
       "      <td>2178</td>\n",
       "      <td>8.339926</td>\n",
       "    </tr>\n",
       "    <tr>\n",
       "      <th>1</th>\n",
       "      <td>7008</td>\n",
       "      <td>Гилёв Алексей Владимирович</td>\n",
       "      <td>4450</td>\n",
       "      <td>7.904307</td>\n",
       "    </tr>\n",
       "    <tr>\n",
       "      <th>2</th>\n",
       "      <td>4270</td>\n",
       "      <td>Брутер Александра Владимировна</td>\n",
       "      <td>2692</td>\n",
       "      <td>7.884845</td>\n",
       "    </tr>\n",
       "    <tr>\n",
       "      <th>3</th>\n",
       "      <td>28751</td>\n",
       "      <td>Семушин Иван Николаевич</td>\n",
       "      <td>3774</td>\n",
       "      <td>7.880107</td>\n",
       "    </tr>\n",
       "    <tr>\n",
       "      <th>4</th>\n",
       "      <td>15727</td>\n",
       "      <td>Коробейников Александр Геннадьевич</td>\n",
       "      <td>1401</td>\n",
       "      <td>7.852994</td>\n",
       "    </tr>\n",
       "    <tr>\n",
       "      <th>5</th>\n",
       "      <td>30152</td>\n",
       "      <td>Сорожкин Артём Сергеевич</td>\n",
       "      <td>4849</td>\n",
       "      <td>7.822919</td>\n",
       "    </tr>\n",
       "    <tr>\n",
       "      <th>6</th>\n",
       "      <td>20691</td>\n",
       "      <td>Мереминский Станислав Григорьевич</td>\n",
       "      <td>1584</td>\n",
       "      <td>7.770636</td>\n",
       "    </tr>\n",
       "    <tr>\n",
       "      <th>7</th>\n",
       "      <td>27822</td>\n",
       "      <td>Савченков Михаил Владимирович</td>\n",
       "      <td>3215</td>\n",
       "      <td>7.717139</td>\n",
       "    </tr>\n",
       "    <tr>\n",
       "      <th>8</th>\n",
       "      <td>18332</td>\n",
       "      <td>Либер Александр Витальевич</td>\n",
       "      <td>3789</td>\n",
       "      <td>7.492297</td>\n",
       "    </tr>\n",
       "    <tr>\n",
       "      <th>9</th>\n",
       "      <td>74001</td>\n",
       "      <td>Мокин Игорь Викторович</td>\n",
       "      <td>1176</td>\n",
       "      <td>7.423891</td>\n",
       "    </tr>\n",
       "    <tr>\n",
       "      <th>10</th>\n",
       "      <td>30270</td>\n",
       "      <td>Спешков Сергей Леонидович</td>\n",
       "      <td>3737</td>\n",
       "      <td>7.381424</td>\n",
       "    </tr>\n",
       "    <tr>\n",
       "      <th>11</th>\n",
       "      <td>21698</td>\n",
       "      <td>Мосягин Александр Владимирович</td>\n",
       "      <td>1112</td>\n",
       "      <td>7.340129</td>\n",
       "    </tr>\n",
       "    <tr>\n",
       "      <th>12</th>\n",
       "      <td>19915</td>\n",
       "      <td>Марков Александр Валерьевич</td>\n",
       "      <td>2903</td>\n",
       "      <td>7.299701</td>\n",
       "    </tr>\n",
       "    <tr>\n",
       "      <th>13</th>\n",
       "      <td>18036</td>\n",
       "      <td>Левандовский Михаил Ильич</td>\n",
       "      <td>1457</td>\n",
       "      <td>7.271574</td>\n",
       "    </tr>\n",
       "    <tr>\n",
       "      <th>14</th>\n",
       "      <td>22935</td>\n",
       "      <td>Новиков Илья Сергеевич</td>\n",
       "      <td>1589</td>\n",
       "      <td>7.271310</td>\n",
       "    </tr>\n",
       "    <tr>\n",
       "      <th>15</th>\n",
       "      <td>6212</td>\n",
       "      <td>Выменец Юрий Яковлевич</td>\n",
       "      <td>3308</td>\n",
       "      <td>7.069695</td>\n",
       "    </tr>\n",
       "    <tr>\n",
       "      <th>16</th>\n",
       "      <td>16837</td>\n",
       "      <td>Кудряшова Наталья Алексеевна</td>\n",
       "      <td>2627</td>\n",
       "      <td>7.031616</td>\n",
       "    </tr>\n",
       "    <tr>\n",
       "      <th>17</th>\n",
       "      <td>21487</td>\n",
       "      <td>Моносов Борис Яковлевич</td>\n",
       "      <td>1092</td>\n",
       "      <td>6.968227</td>\n",
       "    </tr>\n",
       "    <tr>\n",
       "      <th>18</th>\n",
       "      <td>23737</td>\n",
       "      <td>Островский Андрей Вячеславович</td>\n",
       "      <td>2612</td>\n",
       "      <td>6.945999</td>\n",
       "    </tr>\n",
       "    <tr>\n",
       "      <th>19</th>\n",
       "      <td>24384</td>\n",
       "      <td>Пашковский Евгений Александрович</td>\n",
       "      <td>1436</td>\n",
       "      <td>6.936181</td>\n",
       "    </tr>\n",
       "  </tbody>\n",
       "</table>\n",
       "</div>"
      ],
      "text/plain": [
       "    player_id                         player_name  num_q    rating\n",
       "0       27403             Руссо Максим Михайлович   2178  8.339926\n",
       "1        7008          Гилёв Алексей Владимирович   4450  7.904307\n",
       "2        4270      Брутер Александра Владимировна   2692  7.884845\n",
       "3       28751             Семушин Иван Николаевич   3774  7.880107\n",
       "4       15727  Коробейников Александр Геннадьевич   1401  7.852994\n",
       "5       30152            Сорожкин Артём Сергеевич   4849  7.822919\n",
       "6       20691   Мереминский Станислав Григорьевич   1584  7.770636\n",
       "7       27822       Савченков Михаил Владимирович   3215  7.717139\n",
       "8       18332          Либер Александр Витальевич   3789  7.492297\n",
       "9       74001              Мокин Игорь Викторович   1176  7.423891\n",
       "10      30270           Спешков Сергей Леонидович   3737  7.381424\n",
       "11      21698      Мосягин Александр Владимирович   1112  7.340129\n",
       "12      19915         Марков Александр Валерьевич   2903  7.299701\n",
       "13      18036           Левандовский Михаил Ильич   1457  7.271574\n",
       "14      22935              Новиков Илья Сергеевич   1589  7.271310\n",
       "15       6212              Выменец Юрий Яковлевич   3308  7.069695\n",
       "16      16837        Кудряшова Наталья Алексеевна   2627  7.031616\n",
       "17      21487             Моносов Борис Яковлевич   1092  6.968227\n",
       "18      23737      Островский Андрей Вячеславович   2612  6.945999\n",
       "19      24384    Пашковский Евгений Александрович   1436  6.936181"
      ]
     },
     "execution_count": 38,
     "metadata": {},
     "output_type": "execute_result"
    }
   ],
   "source": [
    "CUT_OFF = 1000\n",
    "p_rates_em[p_rates_em['num_q'] > CUT_OFF].sort_values('rating', ascending=False).reset_index(drop=True).head(20)"
   ]
  },
  {
   "cell_type": "markdown",
   "metadata": {},
   "source": [
    "С учетом отсечки рейтинг-лист выглядит существенно лучше.  \n",
    "Что можно сделать для улучшения системы ранжирования игроков? Рассмотрм несколько вариантов:  \n",
    "6.1. Отбрасывание игроков, сыгравших малое количество вопросов.  \n",
    "6.2. Использование регуляризации на М-шаге.  \n",
    "6.3. Сглаживание исходных данных.\n",
    "\n",
    "[К содержанию](#zero-bullet) "
   ]
  },
  {
   "cell_type": "markdown",
   "metadata": {},
   "source": [
    "### 6.1. Отбрасывание игроков, сыгравших малое количество вопросов  <a class=\"anchor\" id=\"6.1\"></a>  \n",
    "\n",
    "Этот вариант не очень хорош по следующим причинам:  \n",
    "а) при отбрасывании вносится смещение в выборку, поскольку ответы игроков зависят от ответов других членов команды;  \n",
    "б) теряется информация об игроках;  \n",
    "в) непонятно, каким образом подобрать критерий отбрасывания.\n",
    "\n",
    "[К содержанию](#zero-bullet) "
   ]
  },
  {
   "cell_type": "markdown",
   "metadata": {},
   "source": [
    "### 6.2. Использование регуляризации на М-шаге  <a class=\"anchor\" id=\"6.2\"></a>  \n",
    "\n",
    "При использовании стандартной линейной регрессии мы не делаем никаких предположений о том, какие у игроков могут быть рейтинги. Логично предположить, что изначально для игроков сила должна быть мала. Это соответствует введению априорного распределения на веса модели, или, по-другому, использованию регуляризации. Если игрок сыграл мало вопросов, то распределение весов будет смещаться незначительно. Если же человек много раз показывал хорошие результаты, то соответствующий ему вес будет увеличиваться."
   ]
  },
  {
   "cell_type": "code",
   "execution_count": 39,
   "metadata": {},
   "outputs": [
    {
     "data": {
      "text/plain": [
       "array([9.89484915e-01, 9.90307098e-01, 9.91284623e-01, ...,\n",
       "       1.00000000e-05, 1.00000000e-05, 1.00000000e-05])"
      ]
     },
     "execution_count": 39,
     "metadata": {},
     "output_type": "execute_result"
    }
   ],
   "source": [
    "#em_model = LinearRegression(n_jobs = -1)\n",
    "em_model_adv = Ridge(alpha = 100)\n",
    "df_quest_ans = df_quest_ans[['q_idx', 't_idx', 'p_idx', 'ans']]\n",
    "\n",
    "# Для получения начальных значений вероятностей используем предсказания модели baseline-2:\n",
    "initial_p = clf.predict_proba(X)[:, 1] * df_quest_ans['ans'].values\n",
    "#initial_p = df_quest_ans['ans'].values\n",
    "initial_p = np.clip(initial_p, EPS, 1-EPS)\n",
    "initial_p"
   ]
  },
  {
   "cell_type": "code",
   "execution_count": 40,
   "metadata": {},
   "outputs": [
    {
     "name": "stdout",
     "output_type": "stream",
     "text": [
      "Итерация ЕМ-алгоритма 1 из 5:\n",
      "Средняя корреляция Спирмена test: 0.775239581481719\n",
      "Средняя корреляция Кендалла test: 0.6198465723270523\n",
      "\n",
      "Итерация ЕМ-алгоритма 2 из 5:\n",
      "Средняя корреляция Спирмена test: 0.7806397259098979\n",
      "Средняя корреляция Кендалла test: 0.625186774485737\n",
      "\n",
      "Итерация ЕМ-алгоритма 3 из 5:\n",
      "Средняя корреляция Спирмена test: 0.7861946808553781\n",
      "Средняя корреляция Кендалла test: 0.6323272957612567\n",
      "\n",
      "Итерация ЕМ-алгоритма 4 из 5:\n",
      "Средняя корреляция Спирмена test: 0.7869539191557167\n",
      "Средняя корреляция Кендалла test: 0.6332529481999094\n",
      "\n",
      "Итерация ЕМ-алгоритма 5 из 5:\n",
      "Средняя корреляция Спирмена test: 0.7863357502130528\n",
      "Средняя корреляция Кендалла test: 0.6327628748305154\n",
      "\n",
      "Wall time: 59 s\n"
     ]
    }
   ],
   "source": [
    "%%time\n",
    "w0, p_weights, q_weights = em_alg(em_model_adv, initial_p, df_quest_ans, iters = 5)"
   ]
  },
  {
   "cell_type": "code",
   "execution_count": 41,
   "metadata": {},
   "outputs": [
    {
     "name": "stdout",
     "output_type": "stream",
     "text": [
      "Диапазон изменения рейтингов игроков после регуляризации: -2.886226506933017 6.166548566219574\n",
      "Диапазон изменения сложностей вопросов после регуляризации: -5.129028059618033 10.83915969792474\n"
     ]
    }
   ],
   "source": [
    "print('Диапазон изменения рейтингов игроков после регуляризации:', p_weights.min(), p_weights.max())\n",
    "print('Диапазон изменения сложностей вопросов после регуляризации:', q_weights.min(), q_weights.max())"
   ]
  },
  {
   "cell_type": "code",
   "execution_count": 42,
   "metadata": {},
   "outputs": [
    {
     "data": {
      "text/html": [
       "<div>\n",
       "<style scoped>\n",
       "    .dataframe tbody tr th:only-of-type {\n",
       "        vertical-align: middle;\n",
       "    }\n",
       "\n",
       "    .dataframe tbody tr th {\n",
       "        vertical-align: top;\n",
       "    }\n",
       "\n",
       "    .dataframe thead th {\n",
       "        text-align: right;\n",
       "    }\n",
       "</style>\n",
       "<table border=\"1\" class=\"dataframe\">\n",
       "  <thead>\n",
       "    <tr style=\"text-align: right;\">\n",
       "      <th></th>\n",
       "      <th>player_id</th>\n",
       "      <th>player_name</th>\n",
       "      <th>num_q</th>\n",
       "      <th>rating</th>\n",
       "    </tr>\n",
       "  </thead>\n",
       "  <tbody>\n",
       "    <tr>\n",
       "      <th>0</th>\n",
       "      <td>7008</td>\n",
       "      <td>Гилёв Алексей Владимирович</td>\n",
       "      <td>4450</td>\n",
       "      <td>6.166549</td>\n",
       "    </tr>\n",
       "    <tr>\n",
       "      <th>1</th>\n",
       "      <td>30152</td>\n",
       "      <td>Сорожкин Артём Сергеевич</td>\n",
       "      <td>4849</td>\n",
       "      <td>5.926930</td>\n",
       "    </tr>\n",
       "    <tr>\n",
       "      <th>2</th>\n",
       "      <td>28751</td>\n",
       "      <td>Семушин Иван Николаевич</td>\n",
       "      <td>3774</td>\n",
       "      <td>5.901429</td>\n",
       "    </tr>\n",
       "    <tr>\n",
       "      <th>3</th>\n",
       "      <td>18332</td>\n",
       "      <td>Либер Александр Витальевич</td>\n",
       "      <td>3789</td>\n",
       "      <td>5.658548</td>\n",
       "    </tr>\n",
       "    <tr>\n",
       "      <th>4</th>\n",
       "      <td>27403</td>\n",
       "      <td>Руссо Максим Михайлович</td>\n",
       "      <td>2178</td>\n",
       "      <td>5.627489</td>\n",
       "    </tr>\n",
       "    <tr>\n",
       "      <th>5</th>\n",
       "      <td>27822</td>\n",
       "      <td>Савченков Михаил Владимирович</td>\n",
       "      <td>3215</td>\n",
       "      <td>5.559347</td>\n",
       "    </tr>\n",
       "    <tr>\n",
       "      <th>6</th>\n",
       "      <td>4270</td>\n",
       "      <td>Брутер Александра Владимировна</td>\n",
       "      <td>2692</td>\n",
       "      <td>5.546241</td>\n",
       "    </tr>\n",
       "    <tr>\n",
       "      <th>7</th>\n",
       "      <td>15727</td>\n",
       "      <td>Коробейников Александр Геннадьевич</td>\n",
       "      <td>1401</td>\n",
       "      <td>5.397421</td>\n",
       "    </tr>\n",
       "    <tr>\n",
       "      <th>8</th>\n",
       "      <td>30270</td>\n",
       "      <td>Спешков Сергей Леонидович</td>\n",
       "      <td>3737</td>\n",
       "      <td>5.396851</td>\n",
       "    </tr>\n",
       "    <tr>\n",
       "      <th>9</th>\n",
       "      <td>19915</td>\n",
       "      <td>Марков Александр Валерьевич</td>\n",
       "      <td>2903</td>\n",
       "      <td>5.216246</td>\n",
       "    </tr>\n",
       "    <tr>\n",
       "      <th>10</th>\n",
       "      <td>20691</td>\n",
       "      <td>Мереминский Станислав Григорьевич</td>\n",
       "      <td>1584</td>\n",
       "      <td>5.174185</td>\n",
       "    </tr>\n",
       "    <tr>\n",
       "      <th>11</th>\n",
       "      <td>6212</td>\n",
       "      <td>Выменец Юрий Яковлевич</td>\n",
       "      <td>3308</td>\n",
       "      <td>5.009805</td>\n",
       "    </tr>\n",
       "    <tr>\n",
       "      <th>12</th>\n",
       "      <td>16837</td>\n",
       "      <td>Кудряшова Наталья Алексеевна</td>\n",
       "      <td>2627</td>\n",
       "      <td>4.922734</td>\n",
       "    </tr>\n",
       "    <tr>\n",
       "      <th>13</th>\n",
       "      <td>23737</td>\n",
       "      <td>Островский Андрей Вячеславович</td>\n",
       "      <td>2612</td>\n",
       "      <td>4.862090</td>\n",
       "    </tr>\n",
       "    <tr>\n",
       "      <th>14</th>\n",
       "      <td>56647</td>\n",
       "      <td>Горелова Наталья Евгеньевна</td>\n",
       "      <td>2093</td>\n",
       "      <td>4.769421</td>\n",
       "    </tr>\n",
       "  </tbody>\n",
       "</table>\n",
       "</div>"
      ],
      "text/plain": [
       "    player_id                         player_name  num_q    rating\n",
       "0        7008          Гилёв Алексей Владимирович   4450  6.166549\n",
       "1       30152            Сорожкин Артём Сергеевич   4849  5.926930\n",
       "2       28751             Семушин Иван Николаевич   3774  5.901429\n",
       "3       18332          Либер Александр Витальевич   3789  5.658548\n",
       "4       27403             Руссо Максим Михайлович   2178  5.627489\n",
       "5       27822       Савченков Михаил Владимирович   3215  5.559347\n",
       "6        4270      Брутер Александра Владимировна   2692  5.546241\n",
       "7       15727  Коробейников Александр Геннадьевич   1401  5.397421\n",
       "8       30270           Спешков Сергей Леонидович   3737  5.396851\n",
       "9       19915         Марков Александр Валерьевич   2903  5.216246\n",
       "10      20691   Мереминский Станислав Григорьевич   1584  5.174185\n",
       "11       6212              Выменец Юрий Яковлевич   3308  5.009805\n",
       "12      16837        Кудряшова Наталья Алексеевна   2627  4.922734\n",
       "13      23737      Островский Андрей Вячеславович   2612  4.862090\n",
       "14      56647         Горелова Наталья Евгеньевна   2093  4.769421"
      ]
     },
     "execution_count": 42,
     "metadata": {},
     "output_type": "execute_result"
    }
   ],
   "source": [
    "p_rates_em = calc_player_rates(train_df, p_weights)\n",
    "p_rates_em.head(15)"
   ]
  },
  {
   "cell_type": "markdown",
   "metadata": {},
   "source": [
    "**Выводы:**  Введение регуляризации снизило метрики качества по сравнению с базовым ЕМ-алгоритмом, но теперь рейтинг-лист выглядит вполне правдободобным безо всяких отсечек.  \n",
    "[К содержанию](#zero-bullet) "
   ]
  },
  {
   "cell_type": "markdown",
   "metadata": {},
   "source": [
    "### 6.3. Сглаживание исходных данных  <a class=\"anchor\" id=\"6.3\"></a>  \n",
    "\n",
    "Можно предложить еще один подход. Для снижения эффекта влияния 1-2 удачно сыгранных турниров на рейтинг можно для всех игроков ввести некоторое количество (например 100) фиктивных вопросов, на которые никто не ответил правильно. С одной стороны, на сильных игроков это не окажет заметного влияния, с другой стороны не позволит удачливым новичкам набрать высокие баллы."
   ]
  },
  {
   "cell_type": "code",
   "execution_count": 43,
   "metadata": {},
   "outputs": [],
   "source": [
    "# Создаем таблицу взаимодействия игроков с вопросами\n",
    "df_quest_ans = create_df_quest_ans(train_results)\n",
    "# Добавляем фиктивные данные\n",
    "FICT_QUEST = 100\n",
    "for i in range(FICT_QUEST):\n",
    "    q_idx = i\n",
    "    for player in player_ids_train:\n",
    "        df_quest_ans['q_idx'].append(q_idx)\n",
    "        df_quest_ans['t_idx'].append(0)\n",
    "        df_quest_ans['p_idx'].append(player)\n",
    "        df_quest_ans['ans'].append(0)\n",
    "df_quest_ans = pd.DataFrame.from_dict(df_quest_ans)"
   ]
  },
  {
   "cell_type": "code",
   "execution_count": 45,
   "metadata": {},
   "outputs": [
    {
     "name": "stdout",
     "output_type": "stream",
     "text": [
      "(23493884, 90756)\n"
     ]
    }
   ],
   "source": [
    "# Состав вопросов изменился - заново создаем Х \n",
    "questions_enc2 = OneHotEncoder()  \n",
    "X = hstack((players_enc.fit_transform(df_quest_ans['p_idx'].values.reshape(-1,1)), \n",
    "            questions_enc2.fit_transform(df_quest_ans['q_idx'].values.reshape(-1,1))))\n",
    "print(X.shape)"
   ]
  },
  {
   "cell_type": "code",
   "execution_count": 46,
   "metadata": {},
   "outputs": [],
   "source": [
    "em_model_adv = LinearRegression(n_jobs = -1)\n",
    "df_quest_ans = df_quest_ans[['q_idx', 't_idx', 'p_idx', 'ans']]\n",
    "initial_p = df_quest_ans['ans'].values\n",
    "initial_p = np.clip(initial_p, EPS, 1-EPS)"
   ]
  },
  {
   "cell_type": "code",
   "execution_count": 47,
   "metadata": {},
   "outputs": [
    {
     "name": "stdout",
     "output_type": "stream",
     "text": [
      "Итерация ЕМ-алгоритма 1 из 7:\n",
      "Средняя корреляция Спирмена test: 0.7819721915166218\n",
      "Средняя корреляция Кендалла test: 0.6245390035597851\n",
      "\n",
      "Итерация ЕМ-алгоритма 2 из 7:\n",
      "Средняя корреляция Спирмена test: 0.7683986627919993\n",
      "Средняя корреляция Кендалла test: 0.6133830242406773\n",
      "\n",
      "Итерация ЕМ-алгоритма 3 из 7:\n",
      "Средняя корреляция Спирмена test: 0.780141493262929\n",
      "Средняя корреляция Кендалла test: 0.6236889922567882\n",
      "\n",
      "Итерация ЕМ-алгоритма 4 из 7:\n",
      "Средняя корреляция Спирмена test: 0.7848777937706288\n",
      "Средняя корреляция Кендалла test: 0.6293048038657055\n",
      "\n",
      "Итерация ЕМ-алгоритма 5 из 7:\n",
      "Средняя корреляция Спирмена test: 0.7873425292107603\n",
      "Средняя корреляция Кендалла test: 0.6326296993740976\n",
      "\n",
      "Итерация ЕМ-алгоритма 6 из 7:\n",
      "Средняя корреляция Спирмена test: 0.7888152991425261\n",
      "Средняя корреляция Кендалла test: 0.634657013158414\n",
      "\n",
      "Итерация ЕМ-алгоритма 7 из 7:\n",
      "Средняя корреляция Спирмена test: 0.789058218785513\n",
      "Средняя корреляция Кендалла test: 0.6352221060773349\n",
      "\n",
      "Wall time: 15min 17s\n"
     ]
    }
   ],
   "source": [
    "%%time\n",
    "w0, p_weights, q_weights = em_alg(em_model_adv, initial_p, df_quest_ans, iters = 7)\n",
    "p_rates_em = calc_player_rates(train_df, p_weights)"
   ]
  },
  {
   "cell_type": "code",
   "execution_count": 48,
   "metadata": {},
   "outputs": [
    {
     "name": "stdout",
     "output_type": "stream",
     "text": [
      "Рейтинг-лист топовых игроков:\n"
     ]
    },
    {
     "data": {
      "text/html": [
       "<div>\n",
       "<style scoped>\n",
       "    .dataframe tbody tr th:only-of-type {\n",
       "        vertical-align: middle;\n",
       "    }\n",
       "\n",
       "    .dataframe tbody tr th {\n",
       "        vertical-align: top;\n",
       "    }\n",
       "\n",
       "    .dataframe thead th {\n",
       "        text-align: right;\n",
       "    }\n",
       "</style>\n",
       "<table border=\"1\" class=\"dataframe\">\n",
       "  <thead>\n",
       "    <tr style=\"text-align: right;\">\n",
       "      <th></th>\n",
       "      <th>player_id</th>\n",
       "      <th>player_name</th>\n",
       "      <th>num_q</th>\n",
       "      <th>rating</th>\n",
       "    </tr>\n",
       "  </thead>\n",
       "  <tbody>\n",
       "    <tr>\n",
       "      <th>0</th>\n",
       "      <td>7008</td>\n",
       "      <td>Гилёв Алексей Владимирович</td>\n",
       "      <td>4450</td>\n",
       "      <td>6.872619</td>\n",
       "    </tr>\n",
       "    <tr>\n",
       "      <th>1</th>\n",
       "      <td>30152</td>\n",
       "      <td>Сорожкин Артём Сергеевич</td>\n",
       "      <td>4849</td>\n",
       "      <td>6.556314</td>\n",
       "    </tr>\n",
       "    <tr>\n",
       "      <th>2</th>\n",
       "      <td>28751</td>\n",
       "      <td>Семушин Иван Николаевич</td>\n",
       "      <td>3774</td>\n",
       "      <td>6.388105</td>\n",
       "    </tr>\n",
       "    <tr>\n",
       "      <th>3</th>\n",
       "      <td>18332</td>\n",
       "      <td>Либер Александр Витальевич</td>\n",
       "      <td>3789</td>\n",
       "      <td>6.303433</td>\n",
       "    </tr>\n",
       "    <tr>\n",
       "      <th>4</th>\n",
       "      <td>27403</td>\n",
       "      <td>Руссо Максим Михайлович</td>\n",
       "      <td>2178</td>\n",
       "      <td>6.165099</td>\n",
       "    </tr>\n",
       "    <tr>\n",
       "      <th>5</th>\n",
       "      <td>27822</td>\n",
       "      <td>Савченков Михаил Владимирович</td>\n",
       "      <td>3215</td>\n",
       "      <td>6.070997</td>\n",
       "    </tr>\n",
       "    <tr>\n",
       "      <th>6</th>\n",
       "      <td>4270</td>\n",
       "      <td>Брутер Александра Владимировна</td>\n",
       "      <td>2692</td>\n",
       "      <td>6.052837</td>\n",
       "    </tr>\n",
       "    <tr>\n",
       "      <th>7</th>\n",
       "      <td>15727</td>\n",
       "      <td>Коробейников Александр Геннадьевич</td>\n",
       "      <td>1401</td>\n",
       "      <td>6.030214</td>\n",
       "    </tr>\n",
       "    <tr>\n",
       "      <th>8</th>\n",
       "      <td>30270</td>\n",
       "      <td>Спешков Сергей Леонидович</td>\n",
       "      <td>3737</td>\n",
       "      <td>5.835968</td>\n",
       "    </tr>\n",
       "    <tr>\n",
       "      <th>9</th>\n",
       "      <td>19915</td>\n",
       "      <td>Марков Александр Валерьевич</td>\n",
       "      <td>2903</td>\n",
       "      <td>5.726563</td>\n",
       "    </tr>\n",
       "    <tr>\n",
       "      <th>10</th>\n",
       "      <td>20691</td>\n",
       "      <td>Мереминский Станислав Григорьевич</td>\n",
       "      <td>1584</td>\n",
       "      <td>5.694327</td>\n",
       "    </tr>\n",
       "    <tr>\n",
       "      <th>11</th>\n",
       "      <td>6212</td>\n",
       "      <td>Выменец Юрий Яковлевич</td>\n",
       "      <td>3308</td>\n",
       "      <td>5.534613</td>\n",
       "    </tr>\n",
       "    <tr>\n",
       "      <th>12</th>\n",
       "      <td>16837</td>\n",
       "      <td>Кудряшова Наталья Алексеевна</td>\n",
       "      <td>2627</td>\n",
       "      <td>5.390994</td>\n",
       "    </tr>\n",
       "    <tr>\n",
       "      <th>13</th>\n",
       "      <td>23737</td>\n",
       "      <td>Островский Андрей Вячеславович</td>\n",
       "      <td>2612</td>\n",
       "      <td>5.379419</td>\n",
       "    </tr>\n",
       "    <tr>\n",
       "      <th>14</th>\n",
       "      <td>20001</td>\n",
       "      <td>Мартынов Александр Ефимович</td>\n",
       "      <td>1512</td>\n",
       "      <td>5.324000</td>\n",
       "    </tr>\n",
       "  </tbody>\n",
       "</table>\n",
       "</div>"
      ],
      "text/plain": [
       "    player_id                         player_name  num_q    rating\n",
       "0        7008          Гилёв Алексей Владимирович   4450  6.872619\n",
       "1       30152            Сорожкин Артём Сергеевич   4849  6.556314\n",
       "2       28751             Семушин Иван Николаевич   3774  6.388105\n",
       "3       18332          Либер Александр Витальевич   3789  6.303433\n",
       "4       27403             Руссо Максим Михайлович   2178  6.165099\n",
       "5       27822       Савченков Михаил Владимирович   3215  6.070997\n",
       "6        4270      Брутер Александра Владимировна   2692  6.052837\n",
       "7       15727  Коробейников Александр Геннадьевич   1401  6.030214\n",
       "8       30270           Спешков Сергей Леонидович   3737  5.835968\n",
       "9       19915         Марков Александр Валерьевич   2903  5.726563\n",
       "10      20691   Мереминский Станислав Григорьевич   1584  5.694327\n",
       "11       6212              Выменец Юрий Яковлевич   3308  5.534613\n",
       "12      16837        Кудряшова Наталья Алексеевна   2627  5.390994\n",
       "13      23737      Островский Андрей Вячеславович   2612  5.379419\n",
       "14      20001         Мартынов Александр Ефимович   1512  5.324000"
      ]
     },
     "execution_count": 48,
     "metadata": {},
     "output_type": "execute_result"
    }
   ],
   "source": [
    "print('Рейтинг-лист топовых игроков:')\n",
    "p_rates_em.head(15)"
   ]
  },
  {
   "cell_type": "markdown",
   "metadata": {},
   "source": [
    "**Выводы:**  При использовании сглаживания метрики качества чуть выросли по сравнению с регуляризацией, при этом рейтинг-лист топ игроков выглядит достаточно правдоподобно.  \n",
    "[К содержанию](#zero-bullet) "
   ]
  },
  {
   "cell_type": "markdown",
   "metadata": {},
   "source": [
    "## 7. Бонус 2 <a class=\"anchor\" id=\"7\"></a>  \n",
    "Условие задачи: *игроки со временем учатся играть лучше (а иногда бывает и наоборот). А в нашей модели получается, что первые неудачные турниры новичка будут тянуть его рейтинг вниз всю жизнь — это нехорошо, рейтинг должен быть достаточно гибким и иметь возможность меняться даже у игроков, отыгравших сотни турниров. Давайте попробуем этого добиться:*  \n",
    "- если хватит вычислительных ресурсов, сначала сделайте baseline совсем без таких схем, обучив рейтинги на всех турнирах с повопросными результатами, а не только на турнирах 2019 года; улучшилось ли качество предсказаний на 2020?\n",
    "- одну схему со временем мы уже использовали: брали для обучения только последний год турниров; примерно так делают, например, в теннисной чемпионской гонке; у этой схемы есть свои преимущества, но есть и недостатки (например, достаточно мало играть год, чтобы полностью пропасть из рейтинга);\n",
    "- предложите варианты базовой модели или алгоритма её обучения, которые могли бы реализовать изменения рейтинга со временем; если получится, реализуйте их на практике, проверьте, улучшатся ли предсказания на 2020.\n"
   ]
  },
  {
   "cell_type": "markdown",
   "metadata": {},
   "source": [
    "### 7.1. Baseline <a class=\"anchor\" id=\"7.1\"></a>  "
   ]
  },
  {
   "cell_type": "code",
   "execution_count": 49,
   "metadata": {},
   "outputs": [
    {
     "name": "stdout",
     "output_type": "stream",
     "text": [
      "Количество турниров для обучающей выборки: 3484\n",
      "Количество турниров для тестовой выборки: 173\n"
     ]
    }
   ],
   "source": [
    "# Список турниров для train и test\n",
    "train_ids, test_ids = [] , []\n",
    "\n",
    "train_results, test_results = dict(), dict()\n",
    "for tourn_id, tourn_data in results.items():\n",
    "    year = int(tournaments[tourn_id]['dateStart'][:4])\n",
    "    # Если год не тот, переходим к следующему турниру\n",
    "    if year > 2020:\n",
    "        continue\n",
    "    # Проверка наличия маски в результатах\n",
    "    flag1 = False\n",
    "    if (len(tourn_data) > 0) and ('mask' in tourn_data[0]):\n",
    "        if tourn_data[0]['mask'] is not None:\n",
    "            flag1 = True\n",
    "    # Проверка наличия списка игроков в результатах\n",
    "    flag2 = False\n",
    "    if (len(tourn_data) > 0) and ('teamMembers' in tourn_data[0]):\n",
    "        if tourn_data[0]['teamMembers'] is not None:\n",
    "            flag2 = True\n",
    "    # Если нет маски или списка игроков - переходим к следующему турниру\n",
    "    if not (flag1 and flag2):\n",
    "        continue\n",
    "   \n",
    "    # Максимальное число вопросов в турнире\n",
    "    max_mask = max([len(team['mask'] or '') for team in tourn_data])\n",
    "    # Оставляем те команды, у которых число ответов равно числу вопросов турнира\n",
    "    current_data = [team for team in tourn_data if len(team['mask'] or '') == max_mask]\n",
    "    # Исправляем маски\n",
    "    for team in current_data:\n",
    "        team['mask'] = correct_mask(team['mask'])\n",
    "    # Добавляем турниры в списки\n",
    "    if year == 2020:\n",
    "        test_ids.append(tourn_id)\n",
    "        test_results[tourn_id] = current_data\n",
    "    else:\n",
    "        train_ids.append(tourn_id)\n",
    "        train_results[tourn_id] = current_data\n",
    "        \n",
    "print('Количество турниров для обучающей выборки:', len(train_results))\n",
    "print('Количество турниров для тестовой выборки:',  len(test_results))"
   ]
  },
  {
   "cell_type": "code",
   "execution_count": 50,
   "metadata": {},
   "outputs": [
    {
     "name": "stdout",
     "output_type": "stream",
     "text": [
      "Число взаимодействий игроков с вопросами за весь период до 2019 г.: 94858327\n"
     ]
    },
    {
     "data": {
      "text/html": [
       "<div>\n",
       "<style scoped>\n",
       "    .dataframe tbody tr th:only-of-type {\n",
       "        vertical-align: middle;\n",
       "    }\n",
       "\n",
       "    .dataframe tbody tr th {\n",
       "        vertical-align: top;\n",
       "    }\n",
       "\n",
       "    .dataframe thead th {\n",
       "        text-align: right;\n",
       "    }\n",
       "</style>\n",
       "<table border=\"1\" class=\"dataframe\">\n",
       "  <thead>\n",
       "    <tr style=\"text-align: right;\">\n",
       "      <th></th>\n",
       "      <th>q_idx</th>\n",
       "      <th>t_idx</th>\n",
       "      <th>p_idx</th>\n",
       "      <th>ans</th>\n",
       "    </tr>\n",
       "  </thead>\n",
       "  <tbody>\n",
       "    <tr>\n",
       "      <th>0</th>\n",
       "      <td>220000</td>\n",
       "      <td>1</td>\n",
       "      <td>1560</td>\n",
       "      <td>0</td>\n",
       "    </tr>\n",
       "    <tr>\n",
       "      <th>1</th>\n",
       "      <td>220000</td>\n",
       "      <td>1</td>\n",
       "      <td>2935</td>\n",
       "      <td>0</td>\n",
       "    </tr>\n",
       "    <tr>\n",
       "      <th>2</th>\n",
       "      <td>220000</td>\n",
       "      <td>1</td>\n",
       "      <td>3270</td>\n",
       "      <td>0</td>\n",
       "    </tr>\n",
       "    <tr>\n",
       "      <th>3</th>\n",
       "      <td>220000</td>\n",
       "      <td>1</td>\n",
       "      <td>4878</td>\n",
       "      <td>0</td>\n",
       "    </tr>\n",
       "    <tr>\n",
       "      <th>4</th>\n",
       "      <td>220000</td>\n",
       "      <td>1</td>\n",
       "      <td>18935</td>\n",
       "      <td>0</td>\n",
       "    </tr>\n",
       "  </tbody>\n",
       "</table>\n",
       "</div>"
      ],
      "text/plain": [
       "    q_idx  t_idx  p_idx  ans\n",
       "0  220000      1   1560    0\n",
       "1  220000      1   2935    0\n",
       "2  220000      1   3270    0\n",
       "3  220000      1   4878    0\n",
       "4  220000      1  18935    0"
      ]
     },
     "execution_count": 50,
     "metadata": {},
     "output_type": "execute_result"
    }
   ],
   "source": [
    "df_quest_ans = create_df_quest_ans(train_results)\n",
    "df_quest_ans = pd.DataFrame.from_dict(df_quest_ans)\n",
    "print('Число взаимодействий игроков с вопросами за весь период до 2019 г.:', len(df_quest_ans))\n",
    "df_quest_ans.head()"
   ]
  },
  {
   "cell_type": "code",
   "execution_count": 51,
   "metadata": {},
   "outputs": [
    {
     "name": "stdout",
     "output_type": "stream",
     "text": [
      "Количество игроков за всесь период до 2019 г.: 154857\n"
     ]
    }
   ],
   "source": [
    "# Подсчет количества уникальных игроков\n",
    "player_ids_train = set()\n",
    "for tourn_id, tourn_data in train_results.items():\n",
    "    # Цикл по результатам команд в турнире\n",
    "    for result in tourn_data:\n",
    "        for player in result['teamMembers']:\n",
    "            player_ids_train.add(player['player']['id'])\n",
    "player_ids_train = list(player_ids_train)\n",
    "num_of_players = len(player_ids_train)\n",
    "print('Количество игроков за всесь период до 2019 г.:', num_of_players)"
   ]
  },
  {
   "cell_type": "code",
   "execution_count": 52,
   "metadata": {},
   "outputs": [
    {
     "name": "stdout",
     "output_type": "stream",
     "text": [
      "(94858327, 341925)\n"
     ]
    }
   ],
   "source": [
    "# Создаем набор признаков для обучения бейзлайна\n",
    "players_enc = OneHotEncoder()  # энкодер понадобится далее\n",
    "questions_enc = OneHotEncoder()  # энкодер понадобится далее\n",
    "X = hstack((players_enc.fit_transform(df_quest_ans['p_idx'].values.reshape(-1,1)), \n",
    "            questions_enc.fit_transform(df_quest_ans['q_idx'].values.reshape(-1,1))))\n",
    "print(X.shape)"
   ]
  },
  {
   "cell_type": "code",
   "execution_count": 53,
   "metadata": {},
   "outputs": [
    {
     "name": "stdout",
     "output_type": "stream",
     "text": [
      "Wall time: 12min 50s\n"
     ]
    },
    {
     "data": {
      "text/plain": [
       "0.7669199036158417"
      ]
     },
     "execution_count": 53,
     "metadata": {},
     "output_type": "execute_result"
    }
   ],
   "source": [
    "%%time\n",
    "# Обучаем baseline по данным всех турниров до 2019 г.\n",
    "clf = LogisticRegression(random_state = 42, class_weight = 'balanced', solver='liblinear')\n",
    "clf.fit(X, df_quest_ans['ans'])\n",
    "clf.score(X, df_quest_ans['ans'])"
   ]
  },
  {
   "cell_type": "code",
   "execution_count": 54,
   "metadata": {},
   "outputs": [
    {
     "name": "stdout",
     "output_type": "stream",
     "text": [
      "Диапазон изменения рейтингов игроков: -4.428407147941521 4.249803826954093\n",
      "Диапазон изменения сложностей вопросов: -6.500176915594855 6.563463648990611\n"
     ]
    }
   ],
   "source": [
    "w0 = clf.intercept_\n",
    "# Обученные веса игроков - рейтинги\n",
    "p_weights = clf.coef_[0, :num_of_players]\n",
    "# Обученные веса вопросов - сложности\n",
    "q_weights = clf.coef_[0, num_of_players:]\n",
    "print('Диапазон изменения рейтингов игроков:', p_weights.min(), p_weights.max())\n",
    "print('Диапазон изменения сложностей вопросов:', q_weights.min(), q_weights.max())"
   ]
  },
  {
   "cell_type": "code",
   "execution_count": 55,
   "metadata": {},
   "outputs": [],
   "source": [
    "# Расчитаем вероятности того, что игрок ответит на вопрос\n",
    "p_rates = pd.Series(np.zeros(num_of_players, dtype=float), index=player_ids_train)\n",
    "# Индексы массива для выборки рейтингов игроков\n",
    "idx = np.asarray(players_enc.transform(p_rates.index.values.reshape(-1, 1)).argmax(axis = 1)).reshape(-1)\n",
    "# Для каждого игрока рассчитаем вероятность без учета самого вопроса\n",
    "p_rates[p_rates.index] = 1 / (1 + np.exp(-(w0 + p_weights[idx])))\n",
    "# p_rates"
   ]
  },
  {
   "cell_type": "code",
   "execution_count": 56,
   "metadata": {},
   "outputs": [
    {
     "name": "stdout",
     "output_type": "stream",
     "text": [
      "Средняя корреляция Спирмена test: 0.7804220177583049\n",
      "Средняя корреляция Кендалла test: 0.6247251202589623\n"
     ]
    }
   ],
   "source": [
    "# Рассчитаем метрики для тестового датасета\n",
    "spearman_coef, kendall_coef = calc_corr(test_results, p_rates, calc_team_proba)\n",
    "print('Средняя корреляция Спирмена test:', spearman_coef)\n",
    "print('Средняя корреляция Кендалла test:', kendall_coef)"
   ]
  },
  {
   "cell_type": "markdown",
   "metadata": {},
   "source": [
    "По сравнению с обучающей выборкой, построенный только за 2019 г., метрики стали чуть поменьше. Это по-видимому объясняется эффектом сглаживания результатов за счет большей статистики игр.  \n",
    "[К содержанию](#zero-bullet) "
   ]
  },
  {
   "cell_type": "markdown",
   "metadata": {},
   "source": [
    "### 7.2. Изменение рейтинга игроков со временем <a class=\"anchor\" id=\"7.2\"></a>  \n",
    "Влияние фактора времени на величину рейтинга можно реализовать следующим образом. В качестве обучающей выборки взять данные за все года, использовать ЕМ-алгоритм в варианте п.6.2 или 6.3, и на М-шаге при обучении классификатора взвешивать данные из обучающей выборке весами, убывающими по мере отдаления даты примера от текущего момента времени."
   ]
  },
  {
   "cell_type": "code",
   "execution_count": null,
   "metadata": {},
   "outputs": [],
   "source": []
  }
 ],
 "metadata": {
  "kernelspec": {
   "display_name": "Python 3",
   "language": "python",
   "name": "python3"
  },
  "language_info": {
   "codemirror_mode": {
    "name": "ipython",
    "version": 3
   },
   "file_extension": ".py",
   "mimetype": "text/x-python",
   "name": "python",
   "nbconvert_exporter": "python",
   "pygments_lexer": "ipython3",
   "version": "3.8.5"
  }
 },
 "nbformat": 4,
 "nbformat_minor": 4
}
